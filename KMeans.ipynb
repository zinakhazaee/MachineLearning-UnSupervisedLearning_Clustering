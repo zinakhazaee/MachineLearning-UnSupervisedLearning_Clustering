{
  "cells": [
    {
      "cell_type": "markdown",
      "metadata": {
        "id": "view-in-github",
        "colab_type": "text"
      },
      "source": [
        "<a href=\"https://colab.research.google.com/github/zinakhazaee/MachineLearning-UnSupervisedLearning_Clustering/blob/main/KMeans.ipynb\" target=\"_parent\"><img src=\"https://colab.research.google.com/assets/colab-badge.svg\" alt=\"Open In Colab\"/></a>"
      ]
    },
    {
      "cell_type": "markdown",
      "id": "7adde7ac",
      "metadata": {
        "pycharm": {
          "name": "#%% md\n"
        },
        "id": "7adde7ac"
      },
      "source": [
        "# Section 1: Business Understanding"
      ]
    },
    {
      "cell_type": "markdown",
      "id": "d4fe4e57",
      "metadata": {
        "pycharm": {
          "name": "#%% md\n"
        },
        "id": "d4fe4e57"
      },
      "source": [
        "### Question 1: What Kind of Players we have in the Tournament?"
      ]
    },
    {
      "cell_type": "markdown",
      "id": "a518e4af",
      "metadata": {
        "pycharm": {
          "name": "#%% md\n"
        },
        "id": "a518e4af"
      },
      "source": [
        "# Section 2: Data Understanding"
      ]
    },
    {
      "cell_type": "markdown",
      "id": "38ab735f",
      "metadata": {
        "pycharm": {
          "name": "#%% md\n"
        },
        "id": "38ab735f"
      },
      "source": [
        "## Gather Data"
      ]
    },
    {
      "cell_type": "markdown",
      "id": "3d525fc6",
      "metadata": {
        "pycharm": {
          "name": "#%% md\n"
        },
        "id": "3d525fc6"
      },
      "source": [
        "Importing appropriate libraries"
      ]
    },
    {
      "cell_type": "code",
      "execution_count": null,
      "id": "d5d2d6be",
      "metadata": {
        "pycharm": {
          "name": "#%%\n"
        },
        "id": "d5d2d6be"
      },
      "outputs": [],
      "source": [
        "%matplotlib inline\n",
        "\n",
        "import numpy as np\n",
        "import pandas as pd\n",
        "\n",
        "import matplotlib.pyplot as plt\n",
        "from sklearn.preprocessing import StandardScaler\n",
        "from sklearn.decomposition import PCA\n",
        "from sklearn.cluster import KMeans\n",
        "from yellowbrick.cluster import SilhouetteVisualizer\n",
        "from sklearn.metrics import silhouette_score"
      ]
    },
    {
      "cell_type": "markdown",
      "id": "adda9e59",
      "metadata": {
        "pycharm": {
          "name": "#%% md\n"
        },
        "id": "adda9e59"
      },
      "source": [
        "Loading Data\n",
        "- Loading Ind Average.csv into a dataframe, Individual Average Game Stats\n",
        "- Loading Players.csv into a dataframe, Player Information dataset"
      ]
    },
    {
      "cell_type": "code",
      "execution_count": null,
      "id": "ef701bea",
      "metadata": {
        "pycharm": {
          "name": "#%%\n"
        },
        "id": "ef701bea"
      },
      "outputs": [],
      "source": [
        "game_stats = pd.read_csv(\"averages.csv\")\n",
        "players = pd.read_csv(\"players.csv\")"
      ]
    },
    {
      "cell_type": "code",
      "execution_count": null,
      "id": "75a78b29",
      "metadata": {
        "pycharm": {
          "name": "#%%\n"
        },
        "id": "75a78b29",
        "outputId": "1d15aaac-c5da-4224-9388-9c5cafbca214"
      },
      "outputs": [
        {
          "data": {
            "text/html": [
              "<div>\n",
              "<style scoped>\n",
              "    .dataframe tbody tr th:only-of-type {\n",
              "        vertical-align: middle;\n",
              "    }\n",
              "\n",
              "    .dataframe tbody tr th {\n",
              "        vertical-align: top;\n",
              "    }\n",
              "\n",
              "    .dataframe thead th {\n",
              "        text-align: right;\n",
              "    }\n",
              "</style>\n",
              "<table border=\"1\" class=\"dataframe\">\n",
              "  <thead>\n",
              "    <tr style=\"text-align: right;\">\n",
              "      <th></th>\n",
              "      <th>Id</th>\n",
              "      <th>SN</th>\n",
              "      <th>Player Name</th>\n",
              "      <th>POS</th>\n",
              "      <th>Height</th>\n",
              "      <th>Nationality</th>\n",
              "    </tr>\n",
              "  </thead>\n",
              "  <tbody>\n",
              "    <tr>\n",
              "      <th>0</th>\n",
              "      <td>P_142950</td>\n",
              "      <td>7</td>\n",
              "      <td>Aren Davoudichegani</td>\n",
              "      <td>PG</td>\n",
              "      <td>186</td>\n",
              "      <td>IRI</td>\n",
              "    </tr>\n",
              "    <tr>\n",
              "      <th>1</th>\n",
              "      <td>P_142957</td>\n",
              "      <td>15</td>\n",
              "      <td>Hamed EHaddadi</td>\n",
              "      <td>C</td>\n",
              "      <td>218</td>\n",
              "      <td>IRI</td>\n",
              "    </tr>\n",
              "    <tr>\n",
              "      <th>2</th>\n",
              "      <td>P_152307</td>\n",
              "      <td>22</td>\n",
              "      <td>Nick Fazekas</td>\n",
              "      <td>C</td>\n",
              "      <td>207</td>\n",
              "      <td>JPN</td>\n",
              "    </tr>\n",
              "    <tr>\n",
              "      <th>3</th>\n",
              "      <td>P_152309</td>\n",
              "      <td>12</td>\n",
              "      <td>CJ Giles</td>\n",
              "      <td>C</td>\n",
              "      <td>211</td>\n",
              "      <td>BRN</td>\n",
              "    </tr>\n",
              "    <tr>\n",
              "      <th>4</th>\n",
              "      <td>P_152335</td>\n",
              "      <td>8</td>\n",
              "      <td>Saeid Davarpanah</td>\n",
              "      <td>SF</td>\n",
              "      <td>190</td>\n",
              "      <td>IRI</td>\n",
              "    </tr>\n",
              "  </tbody>\n",
              "</table>\n",
              "</div>"
            ],
            "text/plain": [
              "         Id  SN          Player Name POS  Height Nationality\n",
              "0  P_142950   7  Aren Davoudichegani  PG     186         IRI\n",
              "1  P_142957  15       Hamed EHaddadi   C     218         IRI\n",
              "2  P_152307  22         Nick Fazekas   C     207         JPN\n",
              "3  P_152309  12             CJ Giles   C     211         BRN\n",
              "4  P_152335   8     Saeid Davarpanah  SF     190         IRI"
            ]
          },
          "execution_count": 4,
          "metadata": {},
          "output_type": "execute_result"
        }
      ],
      "source": [
        "players.head()"
      ]
    },
    {
      "cell_type": "markdown",
      "id": "6d6b0762",
      "metadata": {
        "pycharm": {
          "name": "#%% md\n"
        },
        "id": "6d6b0762"
      },
      "source": [
        "Id: Unique Identifier\n",
        "\n",
        "SN: Shirt Number [0/00 - 99]\n",
        "POS: Position ['PG', 'SG', 'SF', 'PF', 'C']\n",
        "Height: In Centimeters\n",
        "Nationality: Country Code ISO Alpha‑3"
      ]
    },
    {
      "cell_type": "code",
      "execution_count": null,
      "id": "d0c17902",
      "metadata": {
        "pycharm": {
          "name": "#%%\n"
        },
        "id": "d0c17902",
        "outputId": "0c4bf905-4ba5-45bf-e163-d3813baa1f95"
      },
      "outputs": [
        {
          "data": {
            "text/html": [
              "<div>\n",
              "<style scoped>\n",
              "    .dataframe tbody tr th:only-of-type {\n",
              "        vertical-align: middle;\n",
              "    }\n",
              "\n",
              "    .dataframe tbody tr th {\n",
              "        vertical-align: top;\n",
              "    }\n",
              "\n",
              "    .dataframe thead th {\n",
              "        text-align: right;\n",
              "    }\n",
              "</style>\n",
              "<table border=\"1\" class=\"dataframe\">\n",
              "  <thead>\n",
              "    <tr style=\"text-align: right;\">\n",
              "      <th></th>\n",
              "      <th>Id</th>\n",
              "      <th>MIN</th>\n",
              "      <th>PTS</th>\n",
              "      <th>FGM</th>\n",
              "      <th>FGA</th>\n",
              "      <th>FG%</th>\n",
              "      <th>3PM</th>\n",
              "      <th>3PA</th>\n",
              "      <th>3P%</th>\n",
              "      <th>2PM</th>\n",
              "      <th>...</th>\n",
              "      <th>ORtg</th>\n",
              "      <th>eFG%</th>\n",
              "      <th>TS%</th>\n",
              "      <th>FT Rate</th>\n",
              "      <th>AST Rate</th>\n",
              "      <th>AST/TO</th>\n",
              "      <th>TOV Rate</th>\n",
              "      <th>ORB%</th>\n",
              "      <th>DRB%</th>\n",
              "      <th>USG%</th>\n",
              "    </tr>\n",
              "  </thead>\n",
              "  <tbody>\n",
              "    <tr>\n",
              "      <th>0</th>\n",
              "      <td>P_239228</td>\n",
              "      <td>16.30000</td>\n",
              "      <td>12.5</td>\n",
              "      <td>4.0</td>\n",
              "      <td>9.00</td>\n",
              "      <td>37.50000</td>\n",
              "      <td>2.000</td>\n",
              "      <td>4.50</td>\n",
              "      <td>46.43000</td>\n",
              "      <td>2.000</td>\n",
              "      <td>...</td>\n",
              "      <td>142.21000</td>\n",
              "      <td>72.91500</td>\n",
              "      <td>58.33500</td>\n",
              "      <td>35.71500</td>\n",
              "      <td>0.52000</td>\n",
              "      <td>3.5000</td>\n",
              "      <td>0.08500</td>\n",
              "      <td>2.630</td>\n",
              "      <td>4.5000</td>\n",
              "      <td>20.19000</td>\n",
              "    </tr>\n",
              "    <tr>\n",
              "      <th>1</th>\n",
              "      <td>P_215434</td>\n",
              "      <td>19.96000</td>\n",
              "      <td>11.0</td>\n",
              "      <td>4.0</td>\n",
              "      <td>8.75</td>\n",
              "      <td>40.96875</td>\n",
              "      <td>2.125</td>\n",
              "      <td>5.75</td>\n",
              "      <td>30.95125</td>\n",
              "      <td>1.875</td>\n",
              "      <td>...</td>\n",
              "      <td>106.33625</td>\n",
              "      <td>48.33500</td>\n",
              "      <td>53.48375</td>\n",
              "      <td>8.95125</td>\n",
              "      <td>0.12125</td>\n",
              "      <td>0.7500</td>\n",
              "      <td>0.10000</td>\n",
              "      <td>2.440</td>\n",
              "      <td>6.5825</td>\n",
              "      <td>17.31875</td>\n",
              "    </tr>\n",
              "    <tr>\n",
              "      <th>2</th>\n",
              "      <td>P_265287</td>\n",
              "      <td>12.43500</td>\n",
              "      <td>2.5</td>\n",
              "      <td>1.0</td>\n",
              "      <td>4.50</td>\n",
              "      <td>25.00000</td>\n",
              "      <td>0.000</td>\n",
              "      <td>1.00</td>\n",
              "      <td>0.00000</td>\n",
              "      <td>1.000</td>\n",
              "      <td>...</td>\n",
              "      <td>60.57500</td>\n",
              "      <td>0.00000</td>\n",
              "      <td>25.00000</td>\n",
              "      <td>12.50000</td>\n",
              "      <td>0.09500</td>\n",
              "      <td>0.5000</td>\n",
              "      <td>0.21000</td>\n",
              "      <td>2.325</td>\n",
              "      <td>6.2500</td>\n",
              "      <td>17.48500</td>\n",
              "    </tr>\n",
              "    <tr>\n",
              "      <th>3</th>\n",
              "      <td>P_205891</td>\n",
              "      <td>18.19000</td>\n",
              "      <td>12.0</td>\n",
              "      <td>5.5</td>\n",
              "      <td>8.00</td>\n",
              "      <td>65.00000</td>\n",
              "      <td>0.500</td>\n",
              "      <td>0.50</td>\n",
              "      <td>50.00000</td>\n",
              "      <td>5.000</td>\n",
              "      <td>...</td>\n",
              "      <td>141.63500</td>\n",
              "      <td>50.00000</td>\n",
              "      <td>65.91000</td>\n",
              "      <td>5.00000</td>\n",
              "      <td>0.29500</td>\n",
              "      <td>1.5000</td>\n",
              "      <td>0.07500</td>\n",
              "      <td>6.430</td>\n",
              "      <td>8.2500</td>\n",
              "      <td>13.82000</td>\n",
              "    </tr>\n",
              "    <tr>\n",
              "      <th>4</th>\n",
              "      <td>P_209340</td>\n",
              "      <td>24.16625</td>\n",
              "      <td>12.0</td>\n",
              "      <td>4.5</td>\n",
              "      <td>8.75</td>\n",
              "      <td>49.79375</td>\n",
              "      <td>1.000</td>\n",
              "      <td>3.25</td>\n",
              "      <td>28.95750</td>\n",
              "      <td>3.500</td>\n",
              "      <td>...</td>\n",
              "      <td>136.10750</td>\n",
              "      <td>44.47875</td>\n",
              "      <td>59.41500</td>\n",
              "      <td>22.35625</td>\n",
              "      <td>0.50250</td>\n",
              "      <td>4.5625</td>\n",
              "      <td>0.10625</td>\n",
              "      <td>8.185</td>\n",
              "      <td>10.9425</td>\n",
              "      <td>17.67875</td>\n",
              "    </tr>\n",
              "  </tbody>\n",
              "</table>\n",
              "<p>5 rows × 45 columns</p>\n",
              "</div>"
            ],
            "text/plain": [
              "         Id       MIN   PTS  FGM   FGA       FG%    3PM   3PA       3P%  \\\n",
              "0  P_239228  16.30000  12.5  4.0  9.00  37.50000  2.000  4.50  46.43000   \n",
              "1  P_215434  19.96000  11.0  4.0  8.75  40.96875  2.125  5.75  30.95125   \n",
              "2  P_265287  12.43500   2.5  1.0  4.50  25.00000  0.000  1.00   0.00000   \n",
              "3  P_205891  18.19000  12.0  5.5  8.00  65.00000  0.500  0.50  50.00000   \n",
              "4  P_209340  24.16625  12.0  4.5  8.75  49.79375  1.000  3.25  28.95750   \n",
              "\n",
              "     2PM  ...       ORtg      eFG%       TS%   FT Rate  AST Rate  AST/TO  \\\n",
              "0  2.000  ...  142.21000  72.91500  58.33500  35.71500   0.52000  3.5000   \n",
              "1  1.875  ...  106.33625  48.33500  53.48375   8.95125   0.12125  0.7500   \n",
              "2  1.000  ...   60.57500   0.00000  25.00000  12.50000   0.09500  0.5000   \n",
              "3  5.000  ...  141.63500  50.00000  65.91000   5.00000   0.29500  1.5000   \n",
              "4  3.500  ...  136.10750  44.47875  59.41500  22.35625   0.50250  4.5625   \n",
              "\n",
              "   TOV Rate   ORB%     DRB%      USG%  \n",
              "0   0.08500  2.630   4.5000  20.19000  \n",
              "1   0.10000  2.440   6.5825  17.31875  \n",
              "2   0.21000  2.325   6.2500  17.48500  \n",
              "3   0.07500  6.430   8.2500  13.82000  \n",
              "4   0.10625  8.185  10.9425  17.67875  \n",
              "\n",
              "[5 rows x 45 columns]"
            ]
          },
          "execution_count": 5,
          "metadata": {},
          "output_type": "execute_result"
        }
      ],
      "source": [
        "game_stats.head()"
      ]
    },
    {
      "cell_type": "markdown",
      "id": "e839790e",
      "metadata": {
        "pycharm": {
          "name": "#%% md\n"
        },
        "id": "e839790e"
      },
      "source": [
        "Id: Unique Identifier\n",
        "\n",
        "### Primary Metrics:\n",
        "MIN: Minutes, Playing Time\n",
        "PTS: Points\n",
        "FGM: Field Goals Made\n",
        "FGA: Field Goals Attempted\n",
        "FG%: Field Goals Percentage\n",
        "3PM: 3-Points Made\n",
        "3PA: 3-Points Attempted\n",
        "2PM: 2-Points Made\n",
        "2PA: 2-Points Attempted\n",
        "FTM: Free Throws Made\n",
        "FTA: Free Throws Attempted\n",
        "DR: Defensive Rebounds\n",
        "OR: Offensive Rebounds\n",
        "TR: Total Rebounds\n",
        "AST: Assists\n",
        "TO: Turnovers\n",
        "STL: Steals\n",
        "BLK: Blocks\n",
        "TPF: Total Personal Fouls\n",
        "TPFD: Total Personal Fouls Drawn\n",
        "TSFD: Total Shooting Fouls Drawn\n",
        "Mid Range\n",
        "Paint"
      ]
    },
    {
      "cell_type": "markdown",
      "id": "a4b86928",
      "metadata": {
        "pycharm": {
          "name": "#%% md\n"
        },
        "id": "a4b86928"
      },
      "source": [
        "### Secondary Metrics:\n",
        "\n",
        "Floor%: Percentage of Used Possessions\n",
        "DRtg: Defensive Rating\n",
        "ORtg: Offensive Rating\n",
        "eFG%: Effective Field Goals Percentage\n",
        "TS%: True Shooting Percentage\n",
        "FT Rate: Free Throw Rate\n",
        "AST Rate: Assist Rate\n",
        "AST/TO: Assist / Turnovers\n",
        "TOV Rate: Turnovers Rate\n",
        "ORB: Offensive Rebound Percentage\n",
        "DRB: Defensive Rebound Percentage\n",
        "USG%: Usage Percentage"
      ]
    },
    {
      "cell_type": "markdown",
      "id": "c766ed9b",
      "metadata": {
        "pycharm": {
          "name": "#%% md\n"
        },
        "id": "c766ed9b"
      },
      "source": [
        "## Analyze Data"
      ]
    },
    {
      "cell_type": "code",
      "execution_count": null,
      "id": "aa70c075",
      "metadata": {
        "pycharm": {
          "name": "#%%\n"
        },
        "id": "aa70c075",
        "outputId": "53e634d7-c3c6-4ae8-8681-88928af6f5e1"
      },
      "outputs": [
        {
          "data": {
            "text/plain": [
              "(403, 6)"
            ]
          },
          "execution_count": 6,
          "metadata": {},
          "output_type": "execute_result"
        }
      ],
      "source": [
        "# Checking Number of Rows and Columns\n",
        "\n",
        "players.shape"
      ]
    },
    {
      "cell_type": "code",
      "execution_count": null,
      "id": "ac58bf02",
      "metadata": {
        "pycharm": {
          "name": "#%%\n"
        },
        "id": "ac58bf02",
        "outputId": "b2e26f12-9aed-438e-f5b2-46e8c0602569"
      },
      "outputs": [
        {
          "data": {
            "text/plain": [
              "(416, 45)"
            ]
          },
          "execution_count": 7,
          "metadata": {},
          "output_type": "execute_result"
        }
      ],
      "source": [
        "# Checking Number of Rows and Columns\n",
        "\n",
        "game_stats.shape"
      ]
    },
    {
      "cell_type": "code",
      "execution_count": null,
      "id": "ba0b679c",
      "metadata": {
        "pycharm": {
          "name": "#%%\n"
        },
        "id": "ba0b679c",
        "outputId": "1d39a684-89c3-4bb4-dbca-877e136e5eef"
      },
      "outputs": [
        {
          "data": {
            "text/plain": [
              "Id             0\n",
              "SN             0\n",
              "Player Name    0\n",
              "POS            0\n",
              "Height         0\n",
              "Nationality    0\n",
              "dtype: int64"
            ]
          },
          "execution_count": 8,
          "metadata": {},
          "output_type": "execute_result"
        }
      ],
      "source": [
        "# Checking Null values in Players Dataset\n",
        "\n",
        "players.isna().sum()"
      ]
    },
    {
      "cell_type": "code",
      "execution_count": null,
      "id": "f54e14a7",
      "metadata": {
        "pycharm": {
          "name": "#%%\n"
        },
        "id": "f54e14a7",
        "outputId": "eff85021-48e1-4132-899d-9c2f83068c54"
      },
      "outputs": [
        {
          "data": {
            "text/plain": [
              "Id             0\n",
              "MIN            0\n",
              "PTS            0\n",
              "FGM            0\n",
              "FGA            0\n",
              "FG%            0\n",
              "3PM            0\n",
              "3PA            0\n",
              "3P%            0\n",
              "2PM            0\n",
              "2PA            0\n",
              "2P%            0\n",
              "FTM            0\n",
              "FTA            0\n",
              "FT%            0\n",
              "DR             0\n",
              "OR             0\n",
              "TR             0\n",
              "AST            0\n",
              "TO             0\n",
              "STL            0\n",
              "BLK            0\n",
              "TPF            0\n",
              "TPFD           0\n",
              "TSFD           0\n",
              "MidRangePTS    0\n",
              "MidRangeM      0\n",
              "MidRangeA      0\n",
              "MidRange%      0\n",
              "PaintPTS       0\n",
              "PaintM         0\n",
              "PaintA         0\n",
              "Paint%         0\n",
              "Floor%         0\n",
              "DRtg           0\n",
              "ORtg           0\n",
              "eFG%           0\n",
              "TS%            0\n",
              "FT Rate        0\n",
              "AST Rate       0\n",
              "AST/TO         0\n",
              "TOV Rate       0\n",
              "ORB%           0\n",
              "DRB%           0\n",
              "USG%           0\n",
              "dtype: int64"
            ]
          },
          "execution_count": 9,
          "metadata": {},
          "output_type": "execute_result"
        }
      ],
      "source": [
        "# Checking Null values in Game Stats\n",
        "\n",
        "game_stats.isna().sum()"
      ]
    },
    {
      "cell_type": "code",
      "execution_count": null,
      "id": "0c7b5de6",
      "metadata": {
        "pycharm": {
          "name": "#%%\n"
        },
        "id": "0c7b5de6",
        "outputId": "85aff6ff-52cd-4c3f-e2c5-67cee6aab622"
      },
      "outputs": [
        {
          "data": {
            "text/plain": [
              "13"
            ]
          },
          "execution_count": 10,
          "metadata": {},
          "output_type": "execute_result"
        }
      ],
      "source": [
        "# Checking for Duplicates in Game Stats\n",
        "\n",
        "game_stats['Id'].duplicated().sum()"
      ]
    },
    {
      "cell_type": "code",
      "execution_count": null,
      "id": "2d85d16c",
      "metadata": {
        "pycharm": {
          "name": "#%%\n"
        },
        "id": "2d85d16c",
        "outputId": "cc760a79-0075-49b5-aeb7-7528cf3bfff3"
      },
      "outputs": [
        {
          "data": {
            "text/plain": [
              "0"
            ]
          },
          "execution_count": 11,
          "metadata": {},
          "output_type": "execute_result"
        }
      ],
      "source": [
        "# Checking for Duplicates in Players Dataset\n",
        "\n",
        "players['Id'].duplicated().sum()"
      ]
    },
    {
      "cell_type": "code",
      "execution_count": null,
      "id": "44ef9efb",
      "metadata": {
        "pycharm": {
          "name": "#%%\n"
        },
        "id": "44ef9efb",
        "outputId": "53e3369c-16d4-43f9-ba20-3767a60c6445"
      },
      "outputs": [
        {
          "data": {
            "text/html": [
              "<div>\n",
              "<style scoped>\n",
              "    .dataframe tbody tr th:only-of-type {\n",
              "        vertical-align: middle;\n",
              "    }\n",
              "\n",
              "    .dataframe tbody tr th {\n",
              "        vertical-align: top;\n",
              "    }\n",
              "\n",
              "    .dataframe thead th {\n",
              "        text-align: right;\n",
              "    }\n",
              "</style>\n",
              "<table border=\"1\" class=\"dataframe\">\n",
              "  <thead>\n",
              "    <tr style=\"text-align: right;\">\n",
              "      <th></th>\n",
              "      <th>Id</th>\n",
              "      <th>MIN</th>\n",
              "      <th>PTS</th>\n",
              "      <th>FGM</th>\n",
              "      <th>FGA</th>\n",
              "      <th>FG%</th>\n",
              "      <th>3PM</th>\n",
              "      <th>3PA</th>\n",
              "      <th>3P%</th>\n",
              "      <th>2PM</th>\n",
              "      <th>...</th>\n",
              "      <th>ORtg</th>\n",
              "      <th>eFG%</th>\n",
              "      <th>TS%</th>\n",
              "      <th>FT Rate</th>\n",
              "      <th>AST Rate</th>\n",
              "      <th>AST/TO</th>\n",
              "      <th>TOV Rate</th>\n",
              "      <th>ORB%</th>\n",
              "      <th>DRB%</th>\n",
              "      <th>USG%</th>\n",
              "    </tr>\n",
              "  </thead>\n",
              "  <tbody>\n",
              "    <tr>\n",
              "      <th>144</th>\n",
              "      <td>P_152309</td>\n",
              "      <td>28.660000</td>\n",
              "      <td>9.500000</td>\n",
              "      <td>3.000000</td>\n",
              "      <td>6.000000</td>\n",
              "      <td>48.570000</td>\n",
              "      <td>0.000000</td>\n",
              "      <td>0.000000</td>\n",
              "      <td>0.000000</td>\n",
              "      <td>3.000000</td>\n",
              "      <td>...</td>\n",
              "      <td>89.320000</td>\n",
              "      <td>16.665000</td>\n",
              "      <td>59.125000</td>\n",
              "      <td>61.430000</td>\n",
              "      <td>0.120000</td>\n",
              "      <td>0.375000</td>\n",
              "      <td>0.330000</td>\n",
              "      <td>7.105000</td>\n",
              "      <td>21.600000</td>\n",
              "      <td>18.040000</td>\n",
              "    </tr>\n",
              "    <tr>\n",
              "      <th>123</th>\n",
              "      <td>P_152309</td>\n",
              "      <td>38.600000</td>\n",
              "      <td>15.000000</td>\n",
              "      <td>7.000000</td>\n",
              "      <td>12.000000</td>\n",
              "      <td>58.330000</td>\n",
              "      <td>1.000000</td>\n",
              "      <td>2.000000</td>\n",
              "      <td>50.000000</td>\n",
              "      <td>6.000000</td>\n",
              "      <td>...</td>\n",
              "      <td>118.160000</td>\n",
              "      <td>50.000000</td>\n",
              "      <td>62.500000</td>\n",
              "      <td>0.000000</td>\n",
              "      <td>0.190000</td>\n",
              "      <td>2.000000</td>\n",
              "      <td>0.090000</td>\n",
              "      <td>0.000000</td>\n",
              "      <td>30.770000</td>\n",
              "      <td>13.980000</td>\n",
              "    </tr>\n",
              "    <tr>\n",
              "      <th>308</th>\n",
              "      <td>P_152341</td>\n",
              "      <td>6.320000</td>\n",
              "      <td>0.000000</td>\n",
              "      <td>0.000000</td>\n",
              "      <td>0.000000</td>\n",
              "      <td>0.000000</td>\n",
              "      <td>0.000000</td>\n",
              "      <td>0.000000</td>\n",
              "      <td>0.000000</td>\n",
              "      <td>0.000000</td>\n",
              "      <td>...</td>\n",
              "      <td>39.680000</td>\n",
              "      <td>0.000000</td>\n",
              "      <td>0.000000</td>\n",
              "      <td>0.000000</td>\n",
              "      <td>0.810000</td>\n",
              "      <td>1.000000</td>\n",
              "      <td>0.810000</td>\n",
              "      <td>0.000000</td>\n",
              "      <td>2.500000</td>\n",
              "      <td>16.280000</td>\n",
              "    </tr>\n",
              "    <tr>\n",
              "      <th>315</th>\n",
              "      <td>P_152341</td>\n",
              "      <td>13.130000</td>\n",
              "      <td>2.000000</td>\n",
              "      <td>1.000000</td>\n",
              "      <td>3.000000</td>\n",
              "      <td>33.330000</td>\n",
              "      <td>0.000000</td>\n",
              "      <td>0.000000</td>\n",
              "      <td>0.000000</td>\n",
              "      <td>1.000000</td>\n",
              "      <td>...</td>\n",
              "      <td>50.580000</td>\n",
              "      <td>0.000000</td>\n",
              "      <td>33.330000</td>\n",
              "      <td>0.000000</td>\n",
              "      <td>0.230000</td>\n",
              "      <td>0.500000</td>\n",
              "      <td>0.470000</td>\n",
              "      <td>0.000000</td>\n",
              "      <td>6.670000</td>\n",
              "      <td>15.560000</td>\n",
              "    </tr>\n",
              "    <tr>\n",
              "      <th>54</th>\n",
              "      <td>P_173563</td>\n",
              "      <td>30.647778</td>\n",
              "      <td>15.666667</td>\n",
              "      <td>5.777778</td>\n",
              "      <td>13.888889</td>\n",
              "      <td>37.084444</td>\n",
              "      <td>0.555556</td>\n",
              "      <td>2.000000</td>\n",
              "      <td>10.476667</td>\n",
              "      <td>5.222222</td>\n",
              "      <td>...</td>\n",
              "      <td>90.046667</td>\n",
              "      <td>35.942222</td>\n",
              "      <td>42.431111</td>\n",
              "      <td>21.848889</td>\n",
              "      <td>0.326667</td>\n",
              "      <td>2.852222</td>\n",
              "      <td>0.174444</td>\n",
              "      <td>1.396667</td>\n",
              "      <td>4.308889</td>\n",
              "      <td>21.213333</td>\n",
              "    </tr>\n",
              "    <tr>\n",
              "      <th>128</th>\n",
              "      <td>P_173563</td>\n",
              "      <td>30.840000</td>\n",
              "      <td>18.500000</td>\n",
              "      <td>7.000000</td>\n",
              "      <td>16.500000</td>\n",
              "      <td>42.645000</td>\n",
              "      <td>1.500000</td>\n",
              "      <td>3.000000</td>\n",
              "      <td>30.000000</td>\n",
              "      <td>5.500000</td>\n",
              "      <td>...</td>\n",
              "      <td>98.385000</td>\n",
              "      <td>41.095000</td>\n",
              "      <td>52.695000</td>\n",
              "      <td>18.565000</td>\n",
              "      <td>0.200000</td>\n",
              "      <td>1.165000</td>\n",
              "      <td>0.175000</td>\n",
              "      <td>1.615000</td>\n",
              "      <td>5.440000</td>\n",
              "      <td>24.450000</td>\n",
              "    </tr>\n",
              "    <tr>\n",
              "      <th>129</th>\n",
              "      <td>P_173564</td>\n",
              "      <td>35.785000</td>\n",
              "      <td>12.000000</td>\n",
              "      <td>4.500000</td>\n",
              "      <td>6.000000</td>\n",
              "      <td>75.000000</td>\n",
              "      <td>0.000000</td>\n",
              "      <td>0.000000</td>\n",
              "      <td>0.000000</td>\n",
              "      <td>4.500000</td>\n",
              "      <td>...</td>\n",
              "      <td>159.990000</td>\n",
              "      <td>0.000000</td>\n",
              "      <td>81.250000</td>\n",
              "      <td>50.000000</td>\n",
              "      <td>0.785000</td>\n",
              "      <td>5.000000</td>\n",
              "      <td>0.165000</td>\n",
              "      <td>17.365000</td>\n",
              "      <td>44.120000</td>\n",
              "      <td>13.415000</td>\n",
              "    </tr>\n",
              "    <tr>\n",
              "      <th>55</th>\n",
              "      <td>P_173564</td>\n",
              "      <td>23.894444</td>\n",
              "      <td>6.111111</td>\n",
              "      <td>2.333333</td>\n",
              "      <td>4.777778</td>\n",
              "      <td>40.396667</td>\n",
              "      <td>0.000000</td>\n",
              "      <td>0.000000</td>\n",
              "      <td>0.000000</td>\n",
              "      <td>2.333333</td>\n",
              "      <td>...</td>\n",
              "      <td>105.905556</td>\n",
              "      <td>0.000000</td>\n",
              "      <td>48.158889</td>\n",
              "      <td>30.370000</td>\n",
              "      <td>0.292222</td>\n",
              "      <td>1.777778</td>\n",
              "      <td>0.151111</td>\n",
              "      <td>8.371111</td>\n",
              "      <td>12.973333</td>\n",
              "      <td>10.434444</td>\n",
              "    </tr>\n",
              "    <tr>\n",
              "      <th>275</th>\n",
              "      <td>P_192465</td>\n",
              "      <td>28.553750</td>\n",
              "      <td>14.750000</td>\n",
              "      <td>6.000000</td>\n",
              "      <td>13.000000</td>\n",
              "      <td>50.021250</td>\n",
              "      <td>0.875000</td>\n",
              "      <td>2.625000</td>\n",
              "      <td>31.250000</td>\n",
              "      <td>5.125000</td>\n",
              "      <td>...</td>\n",
              "      <td>97.660000</td>\n",
              "      <td>48.611250</td>\n",
              "      <td>56.160000</td>\n",
              "      <td>14.183750</td>\n",
              "      <td>0.152500</td>\n",
              "      <td>0.541250</td>\n",
              "      <td>0.241250</td>\n",
              "      <td>5.986250</td>\n",
              "      <td>11.121250</td>\n",
              "      <td>21.746250</td>\n",
              "    </tr>\n",
              "    <tr>\n",
              "      <th>240</th>\n",
              "      <td>P_192465</td>\n",
              "      <td>20.145000</td>\n",
              "      <td>8.000000</td>\n",
              "      <td>3.500000</td>\n",
              "      <td>8.000000</td>\n",
              "      <td>42.065000</td>\n",
              "      <td>0.000000</td>\n",
              "      <td>1.000000</td>\n",
              "      <td>0.000000</td>\n",
              "      <td>3.500000</td>\n",
              "      <td>...</td>\n",
              "      <td>98.355000</td>\n",
              "      <td>0.000000</td>\n",
              "      <td>44.285000</td>\n",
              "      <td>11.110000</td>\n",
              "      <td>0.405000</td>\n",
              "      <td>2.665000</td>\n",
              "      <td>0.200000</td>\n",
              "      <td>6.630000</td>\n",
              "      <td>15.910000</td>\n",
              "      <td>23.375000</td>\n",
              "    </tr>\n",
              "    <tr>\n",
              "      <th>132</th>\n",
              "      <td>P_197007</td>\n",
              "      <td>32.380000</td>\n",
              "      <td>18.000000</td>\n",
              "      <td>7.000000</td>\n",
              "      <td>12.500000</td>\n",
              "      <td>55.000000</td>\n",
              "      <td>3.000000</td>\n",
              "      <td>6.000000</td>\n",
              "      <td>48.570000</td>\n",
              "      <td>4.000000</td>\n",
              "      <td>...</td>\n",
              "      <td>119.835000</td>\n",
              "      <td>67.460000</td>\n",
              "      <td>68.485000</td>\n",
              "      <td>10.000000</td>\n",
              "      <td>0.295000</td>\n",
              "      <td>1.750000</td>\n",
              "      <td>0.165000</td>\n",
              "      <td>3.845000</td>\n",
              "      <td>9.855000</td>\n",
              "      <td>16.665000</td>\n",
              "    </tr>\n",
              "    <tr>\n",
              "      <th>174</th>\n",
              "      <td>P_197007</td>\n",
              "      <td>32.953333</td>\n",
              "      <td>19.500000</td>\n",
              "      <td>6.833333</td>\n",
              "      <td>15.166667</td>\n",
              "      <td>46.418333</td>\n",
              "      <td>1.833333</td>\n",
              "      <td>6.333333</td>\n",
              "      <td>30.510000</td>\n",
              "      <td>5.000000</td>\n",
              "      <td>...</td>\n",
              "      <td>127.978333</td>\n",
              "      <td>48.888333</td>\n",
              "      <td>61.295000</td>\n",
              "      <td>26.108333</td>\n",
              "      <td>0.255000</td>\n",
              "      <td>2.750000</td>\n",
              "      <td>0.088333</td>\n",
              "      <td>3.955000</td>\n",
              "      <td>8.793333</td>\n",
              "      <td>18.263333</td>\n",
              "    </tr>\n",
              "    <tr>\n",
              "      <th>125</th>\n",
              "      <td>P_205454</td>\n",
              "      <td>2.710000</td>\n",
              "      <td>0.000000</td>\n",
              "      <td>0.000000</td>\n",
              "      <td>0.500000</td>\n",
              "      <td>0.000000</td>\n",
              "      <td>0.000000</td>\n",
              "      <td>0.000000</td>\n",
              "      <td>0.000000</td>\n",
              "      <td>0.000000</td>\n",
              "      <td>...</td>\n",
              "      <td>0.000000</td>\n",
              "      <td>0.000000</td>\n",
              "      <td>0.000000</td>\n",
              "      <td>0.000000</td>\n",
              "      <td>0.000000</td>\n",
              "      <td>0.000000</td>\n",
              "      <td>0.000000</td>\n",
              "      <td>0.000000</td>\n",
              "      <td>4.190000</td>\n",
              "      <td>4.730000</td>\n",
              "    </tr>\n",
              "    <tr>\n",
              "      <th>172</th>\n",
              "      <td>P_205454</td>\n",
              "      <td>6.876667</td>\n",
              "      <td>0.666667</td>\n",
              "      <td>0.000000</td>\n",
              "      <td>1.666667</td>\n",
              "      <td>0.000000</td>\n",
              "      <td>0.000000</td>\n",
              "      <td>0.666667</td>\n",
              "      <td>0.000000</td>\n",
              "      <td>0.000000</td>\n",
              "      <td>...</td>\n",
              "      <td>18.450000</td>\n",
              "      <td>0.000000</td>\n",
              "      <td>5.556667</td>\n",
              "      <td>13.333333</td>\n",
              "      <td>0.113333</td>\n",
              "      <td>0.666667</td>\n",
              "      <td>0.056667</td>\n",
              "      <td>0.900000</td>\n",
              "      <td>2.380000</td>\n",
              "      <td>4.376667</td>\n",
              "    </tr>\n",
              "    <tr>\n",
              "      <th>331</th>\n",
              "      <td>P_205516</td>\n",
              "      <td>24.130000</td>\n",
              "      <td>7.000000</td>\n",
              "      <td>3.000000</td>\n",
              "      <td>8.000000</td>\n",
              "      <td>37.500000</td>\n",
              "      <td>0.000000</td>\n",
              "      <td>2.000000</td>\n",
              "      <td>0.000000</td>\n",
              "      <td>3.000000</td>\n",
              "      <td>...</td>\n",
              "      <td>65.180000</td>\n",
              "      <td>25.000000</td>\n",
              "      <td>43.750000</td>\n",
              "      <td>12.500000</td>\n",
              "      <td>0.000000</td>\n",
              "      <td>0.000000</td>\n",
              "      <td>0.430000</td>\n",
              "      <td>5.560000</td>\n",
              "      <td>9.090000</td>\n",
              "      <td>17.770000</td>\n",
              "    </tr>\n",
              "    <tr>\n",
              "      <th>219</th>\n",
              "      <td>P_205516</td>\n",
              "      <td>22.340000</td>\n",
              "      <td>8.111111</td>\n",
              "      <td>2.777778</td>\n",
              "      <td>6.666667</td>\n",
              "      <td>42.620000</td>\n",
              "      <td>0.333333</td>\n",
              "      <td>0.888889</td>\n",
              "      <td>20.370000</td>\n",
              "      <td>2.444444</td>\n",
              "      <td>...</td>\n",
              "      <td>109.166667</td>\n",
              "      <td>28.240000</td>\n",
              "      <td>55.493333</td>\n",
              "      <td>37.008889</td>\n",
              "      <td>0.012222</td>\n",
              "      <td>0.055556</td>\n",
              "      <td>0.163333</td>\n",
              "      <td>3.567778</td>\n",
              "      <td>10.738889</td>\n",
              "      <td>13.938889</td>\n",
              "    </tr>\n",
              "    <tr>\n",
              "      <th>289</th>\n",
              "      <td>P_205960</td>\n",
              "      <td>2.460000</td>\n",
              "      <td>0.000000</td>\n",
              "      <td>0.000000</td>\n",
              "      <td>0.000000</td>\n",
              "      <td>0.000000</td>\n",
              "      <td>0.000000</td>\n",
              "      <td>0.000000</td>\n",
              "      <td>0.000000</td>\n",
              "      <td>0.000000</td>\n",
              "      <td>...</td>\n",
              "      <td>25.000000</td>\n",
              "      <td>0.000000</td>\n",
              "      <td>0.000000</td>\n",
              "      <td>0.000000</td>\n",
              "      <td>0.000000</td>\n",
              "      <td>0.000000</td>\n",
              "      <td>0.410000</td>\n",
              "      <td>1.390000</td>\n",
              "      <td>0.000000</td>\n",
              "      <td>6.980000</td>\n",
              "    </tr>\n",
              "    <tr>\n",
              "      <th>343</th>\n",
              "      <td>P_205960</td>\n",
              "      <td>11.117500</td>\n",
              "      <td>1.250000</td>\n",
              "      <td>0.500000</td>\n",
              "      <td>2.250000</td>\n",
              "      <td>14.582500</td>\n",
              "      <td>0.250000</td>\n",
              "      <td>1.750000</td>\n",
              "      <td>8.332500</td>\n",
              "      <td>0.250000</td>\n",
              "      <td>...</td>\n",
              "      <td>81.532500</td>\n",
              "      <td>12.500000</td>\n",
              "      <td>18.750000</td>\n",
              "      <td>0.000000</td>\n",
              "      <td>0.525000</td>\n",
              "      <td>3.000000</td>\n",
              "      <td>0.045000</td>\n",
              "      <td>1.795000</td>\n",
              "      <td>0.715000</td>\n",
              "      <td>13.485000</td>\n",
              "    </tr>\n",
              "    <tr>\n",
              "      <th>358</th>\n",
              "      <td>P_248200</td>\n",
              "      <td>37.120000</td>\n",
              "      <td>15.000000</td>\n",
              "      <td>6.000000</td>\n",
              "      <td>15.000000</td>\n",
              "      <td>40.000000</td>\n",
              "      <td>3.000000</td>\n",
              "      <td>9.000000</td>\n",
              "      <td>33.330000</td>\n",
              "      <td>3.000000</td>\n",
              "      <td>...</td>\n",
              "      <td>97.100000</td>\n",
              "      <td>45.000000</td>\n",
              "      <td>50.000000</td>\n",
              "      <td>0.000000</td>\n",
              "      <td>0.280000</td>\n",
              "      <td>2.000000</td>\n",
              "      <td>0.140000</td>\n",
              "      <td>0.000000</td>\n",
              "      <td>21.880000</td>\n",
              "      <td>17.720000</td>\n",
              "    </tr>\n",
              "    <tr>\n",
              "      <th>111</th>\n",
              "      <td>P_248200</td>\n",
              "      <td>29.858333</td>\n",
              "      <td>14.666667</td>\n",
              "      <td>4.500000</td>\n",
              "      <td>13.666667</td>\n",
              "      <td>34.430000</td>\n",
              "      <td>2.500000</td>\n",
              "      <td>8.000000</td>\n",
              "      <td>28.901667</td>\n",
              "      <td>2.000000</td>\n",
              "      <td>...</td>\n",
              "      <td>105.838333</td>\n",
              "      <td>39.886667</td>\n",
              "      <td>47.940000</td>\n",
              "      <td>22.915000</td>\n",
              "      <td>0.288333</td>\n",
              "      <td>1.860000</td>\n",
              "      <td>0.135000</td>\n",
              "      <td>0.355000</td>\n",
              "      <td>5.010000</td>\n",
              "      <td>21.746667</td>\n",
              "    </tr>\n",
              "    <tr>\n",
              "      <th>22</th>\n",
              "      <td>P_248202</td>\n",
              "      <td>14.930000</td>\n",
              "      <td>6.000000</td>\n",
              "      <td>2.500000</td>\n",
              "      <td>4.000000</td>\n",
              "      <td>58.335000</td>\n",
              "      <td>1.000000</td>\n",
              "      <td>2.000000</td>\n",
              "      <td>50.000000</td>\n",
              "      <td>1.500000</td>\n",
              "      <td>...</td>\n",
              "      <td>86.795000</td>\n",
              "      <td>68.750000</td>\n",
              "      <td>75.000000</td>\n",
              "      <td>0.000000</td>\n",
              "      <td>0.105000</td>\n",
              "      <td>0.165000</td>\n",
              "      <td>0.405000</td>\n",
              "      <td>1.280000</td>\n",
              "      <td>3.885000</td>\n",
              "      <td>16.200000</td>\n",
              "    </tr>\n",
              "    <tr>\n",
              "      <th>110</th>\n",
              "      <td>P_248202</td>\n",
              "      <td>16.033333</td>\n",
              "      <td>4.833333</td>\n",
              "      <td>1.333333</td>\n",
              "      <td>2.666667</td>\n",
              "      <td>48.333333</td>\n",
              "      <td>0.833333</td>\n",
              "      <td>1.833333</td>\n",
              "      <td>33.333333</td>\n",
              "      <td>0.500000</td>\n",
              "      <td>...</td>\n",
              "      <td>147.970000</td>\n",
              "      <td>41.666667</td>\n",
              "      <td>70.555000</td>\n",
              "      <td>78.333333</td>\n",
              "      <td>0.251667</td>\n",
              "      <td>0.833333</td>\n",
              "      <td>0.171667</td>\n",
              "      <td>1.965000</td>\n",
              "      <td>3.410000</td>\n",
              "      <td>10.756667</td>\n",
              "    </tr>\n",
              "    <tr>\n",
              "      <th>16</th>\n",
              "      <td>P_250864</td>\n",
              "      <td>15.932500</td>\n",
              "      <td>6.625000</td>\n",
              "      <td>2.125000</td>\n",
              "      <td>7.000000</td>\n",
              "      <td>22.180000</td>\n",
              "      <td>1.125000</td>\n",
              "      <td>4.500000</td>\n",
              "      <td>19.612500</td>\n",
              "      <td>1.000000</td>\n",
              "      <td>...</td>\n",
              "      <td>56.802500</td>\n",
              "      <td>27.491250</td>\n",
              "      <td>30.565000</td>\n",
              "      <td>9.957500</td>\n",
              "      <td>0.045000</td>\n",
              "      <td>0.291250</td>\n",
              "      <td>0.141250</td>\n",
              "      <td>2.636250</td>\n",
              "      <td>3.042500</td>\n",
              "      <td>18.708750</td>\n",
              "    </tr>\n",
              "    <tr>\n",
              "      <th>118</th>\n",
              "      <td>P_250864</td>\n",
              "      <td>18.900000</td>\n",
              "      <td>9.000000</td>\n",
              "      <td>3.500000</td>\n",
              "      <td>9.000000</td>\n",
              "      <td>29.165000</td>\n",
              "      <td>0.500000</td>\n",
              "      <td>4.000000</td>\n",
              "      <td>10.000000</td>\n",
              "      <td>3.000000</td>\n",
              "      <td>...</td>\n",
              "      <td>77.735000</td>\n",
              "      <td>25.000000</td>\n",
              "      <td>39.580000</td>\n",
              "      <td>16.670000</td>\n",
              "      <td>0.085000</td>\n",
              "      <td>0.500000</td>\n",
              "      <td>0.135000</td>\n",
              "      <td>0.000000</td>\n",
              "      <td>1.615000</td>\n",
              "      <td>20.330000</td>\n",
              "    </tr>\n",
              "    <tr>\n",
              "      <th>147</th>\n",
              "      <td>P_282810</td>\n",
              "      <td>1.690000</td>\n",
              "      <td>0.666667</td>\n",
              "      <td>0.000000</td>\n",
              "      <td>0.000000</td>\n",
              "      <td>0.000000</td>\n",
              "      <td>0.000000</td>\n",
              "      <td>0.000000</td>\n",
              "      <td>0.000000</td>\n",
              "      <td>0.000000</td>\n",
              "      <td>...</td>\n",
              "      <td>66.666667</td>\n",
              "      <td>0.000000</td>\n",
              "      <td>33.333333</td>\n",
              "      <td>0.000000</td>\n",
              "      <td>0.000000</td>\n",
              "      <td>0.000000</td>\n",
              "      <td>0.000000</td>\n",
              "      <td>0.000000</td>\n",
              "      <td>0.953333</td>\n",
              "      <td>2.816667</td>\n",
              "    </tr>\n",
              "    <tr>\n",
              "      <th>363</th>\n",
              "      <td>P_282810</td>\n",
              "      <td>5.312500</td>\n",
              "      <td>1.000000</td>\n",
              "      <td>0.500000</td>\n",
              "      <td>1.250000</td>\n",
              "      <td>12.500000</td>\n",
              "      <td>0.000000</td>\n",
              "      <td>0.250000</td>\n",
              "      <td>0.000000</td>\n",
              "      <td>0.500000</td>\n",
              "      <td>...</td>\n",
              "      <td>36.305000</td>\n",
              "      <td>0.000000</td>\n",
              "      <td>12.500000</td>\n",
              "      <td>0.000000</td>\n",
              "      <td>0.000000</td>\n",
              "      <td>0.000000</td>\n",
              "      <td>0.377500</td>\n",
              "      <td>2.110000</td>\n",
              "      <td>1.322500</td>\n",
              "      <td>11.935000</td>\n",
              "    </tr>\n",
              "  </tbody>\n",
              "</table>\n",
              "<p>26 rows × 45 columns</p>\n",
              "</div>"
            ],
            "text/plain": [
              "           Id        MIN        PTS       FGM        FGA        FG%       3PM  \\\n",
              "144  P_152309  28.660000   9.500000  3.000000   6.000000  48.570000  0.000000   \n",
              "123  P_152309  38.600000  15.000000  7.000000  12.000000  58.330000  1.000000   \n",
              "308  P_152341   6.320000   0.000000  0.000000   0.000000   0.000000  0.000000   \n",
              "315  P_152341  13.130000   2.000000  1.000000   3.000000  33.330000  0.000000   \n",
              "54   P_173563  30.647778  15.666667  5.777778  13.888889  37.084444  0.555556   \n",
              "128  P_173563  30.840000  18.500000  7.000000  16.500000  42.645000  1.500000   \n",
              "129  P_173564  35.785000  12.000000  4.500000   6.000000  75.000000  0.000000   \n",
              "55   P_173564  23.894444   6.111111  2.333333   4.777778  40.396667  0.000000   \n",
              "275  P_192465  28.553750  14.750000  6.000000  13.000000  50.021250  0.875000   \n",
              "240  P_192465  20.145000   8.000000  3.500000   8.000000  42.065000  0.000000   \n",
              "132  P_197007  32.380000  18.000000  7.000000  12.500000  55.000000  3.000000   \n",
              "174  P_197007  32.953333  19.500000  6.833333  15.166667  46.418333  1.833333   \n",
              "125  P_205454   2.710000   0.000000  0.000000   0.500000   0.000000  0.000000   \n",
              "172  P_205454   6.876667   0.666667  0.000000   1.666667   0.000000  0.000000   \n",
              "331  P_205516  24.130000   7.000000  3.000000   8.000000  37.500000  0.000000   \n",
              "219  P_205516  22.340000   8.111111  2.777778   6.666667  42.620000  0.333333   \n",
              "289  P_205960   2.460000   0.000000  0.000000   0.000000   0.000000  0.000000   \n",
              "343  P_205960  11.117500   1.250000  0.500000   2.250000  14.582500  0.250000   \n",
              "358  P_248200  37.120000  15.000000  6.000000  15.000000  40.000000  3.000000   \n",
              "111  P_248200  29.858333  14.666667  4.500000  13.666667  34.430000  2.500000   \n",
              "22   P_248202  14.930000   6.000000  2.500000   4.000000  58.335000  1.000000   \n",
              "110  P_248202  16.033333   4.833333  1.333333   2.666667  48.333333  0.833333   \n",
              "16   P_250864  15.932500   6.625000  2.125000   7.000000  22.180000  1.125000   \n",
              "118  P_250864  18.900000   9.000000  3.500000   9.000000  29.165000  0.500000   \n",
              "147  P_282810   1.690000   0.666667  0.000000   0.000000   0.000000  0.000000   \n",
              "363  P_282810   5.312500   1.000000  0.500000   1.250000  12.500000  0.000000   \n",
              "\n",
              "          3PA        3P%       2PM  ...        ORtg       eFG%        TS%  \\\n",
              "144  0.000000   0.000000  3.000000  ...   89.320000  16.665000  59.125000   \n",
              "123  2.000000  50.000000  6.000000  ...  118.160000  50.000000  62.500000   \n",
              "308  0.000000   0.000000  0.000000  ...   39.680000   0.000000   0.000000   \n",
              "315  0.000000   0.000000  1.000000  ...   50.580000   0.000000  33.330000   \n",
              "54   2.000000  10.476667  5.222222  ...   90.046667  35.942222  42.431111   \n",
              "128  3.000000  30.000000  5.500000  ...   98.385000  41.095000  52.695000   \n",
              "129  0.000000   0.000000  4.500000  ...  159.990000   0.000000  81.250000   \n",
              "55   0.000000   0.000000  2.333333  ...  105.905556   0.000000  48.158889   \n",
              "275  2.625000  31.250000  5.125000  ...   97.660000  48.611250  56.160000   \n",
              "240  1.000000   0.000000  3.500000  ...   98.355000   0.000000  44.285000   \n",
              "132  6.000000  48.570000  4.000000  ...  119.835000  67.460000  68.485000   \n",
              "174  6.333333  30.510000  5.000000  ...  127.978333  48.888333  61.295000   \n",
              "125  0.000000   0.000000  0.000000  ...    0.000000   0.000000   0.000000   \n",
              "172  0.666667   0.000000  0.000000  ...   18.450000   0.000000   5.556667   \n",
              "331  2.000000   0.000000  3.000000  ...   65.180000  25.000000  43.750000   \n",
              "219  0.888889  20.370000  2.444444  ...  109.166667  28.240000  55.493333   \n",
              "289  0.000000   0.000000  0.000000  ...   25.000000   0.000000   0.000000   \n",
              "343  1.750000   8.332500  0.250000  ...   81.532500  12.500000  18.750000   \n",
              "358  9.000000  33.330000  3.000000  ...   97.100000  45.000000  50.000000   \n",
              "111  8.000000  28.901667  2.000000  ...  105.838333  39.886667  47.940000   \n",
              "22   2.000000  50.000000  1.500000  ...   86.795000  68.750000  75.000000   \n",
              "110  1.833333  33.333333  0.500000  ...  147.970000  41.666667  70.555000   \n",
              "16   4.500000  19.612500  1.000000  ...   56.802500  27.491250  30.565000   \n",
              "118  4.000000  10.000000  3.000000  ...   77.735000  25.000000  39.580000   \n",
              "147  0.000000   0.000000  0.000000  ...   66.666667   0.000000  33.333333   \n",
              "363  0.250000   0.000000  0.500000  ...   36.305000   0.000000  12.500000   \n",
              "\n",
              "       FT Rate  AST Rate    AST/TO  TOV Rate       ORB%       DRB%       USG%  \n",
              "144  61.430000  0.120000  0.375000  0.330000   7.105000  21.600000  18.040000  \n",
              "123   0.000000  0.190000  2.000000  0.090000   0.000000  30.770000  13.980000  \n",
              "308   0.000000  0.810000  1.000000  0.810000   0.000000   2.500000  16.280000  \n",
              "315   0.000000  0.230000  0.500000  0.470000   0.000000   6.670000  15.560000  \n",
              "54   21.848889  0.326667  2.852222  0.174444   1.396667   4.308889  21.213333  \n",
              "128  18.565000  0.200000  1.165000  0.175000   1.615000   5.440000  24.450000  \n",
              "129  50.000000  0.785000  5.000000  0.165000  17.365000  44.120000  13.415000  \n",
              "55   30.370000  0.292222  1.777778  0.151111   8.371111  12.973333  10.434444  \n",
              "275  14.183750  0.152500  0.541250  0.241250   5.986250  11.121250  21.746250  \n",
              "240  11.110000  0.405000  2.665000  0.200000   6.630000  15.910000  23.375000  \n",
              "132  10.000000  0.295000  1.750000  0.165000   3.845000   9.855000  16.665000  \n",
              "174  26.108333  0.255000  2.750000  0.088333   3.955000   8.793333  18.263333  \n",
              "125   0.000000  0.000000  0.000000  0.000000   0.000000   4.190000   4.730000  \n",
              "172  13.333333  0.113333  0.666667  0.056667   0.900000   2.380000   4.376667  \n",
              "331  12.500000  0.000000  0.000000  0.430000   5.560000   9.090000  17.770000  \n",
              "219  37.008889  0.012222  0.055556  0.163333   3.567778  10.738889  13.938889  \n",
              "289   0.000000  0.000000  0.000000  0.410000   1.390000   0.000000   6.980000  \n",
              "343   0.000000  0.525000  3.000000  0.045000   1.795000   0.715000  13.485000  \n",
              "358   0.000000  0.280000  2.000000  0.140000   0.000000  21.880000  17.720000  \n",
              "111  22.915000  0.288333  1.860000  0.135000   0.355000   5.010000  21.746667  \n",
              "22    0.000000  0.105000  0.165000  0.405000   1.280000   3.885000  16.200000  \n",
              "110  78.333333  0.251667  0.833333  0.171667   1.965000   3.410000  10.756667  \n",
              "16    9.957500  0.045000  0.291250  0.141250   2.636250   3.042500  18.708750  \n",
              "118  16.670000  0.085000  0.500000  0.135000   0.000000   1.615000  20.330000  \n",
              "147   0.000000  0.000000  0.000000  0.000000   0.000000   0.953333   2.816667  \n",
              "363   0.000000  0.000000  0.000000  0.377500   2.110000   1.322500  11.935000  \n",
              "\n",
              "[26 rows x 45 columns]"
            ]
          },
          "execution_count": 12,
          "metadata": {},
          "output_type": "execute_result"
        }
      ],
      "source": [
        "# Taking a closer look at duplicated rows in Game Stats\n",
        "\n",
        "duplicates = game_stats[game_stats['Id'].duplicated()]\n",
        "game_stats.loc[game_stats['Id'].isin(duplicates.Id)].sort_values('Id')"
      ]
    },
    {
      "cell_type": "code",
      "execution_count": null,
      "id": "b02302d5",
      "metadata": {
        "pycharm": {
          "name": "#%%\n"
        },
        "id": "b02302d5",
        "outputId": "ccd8f54e-7cb4-4861-dbf9-f5285d13ba81"
      },
      "outputs": [
        {
          "data": {
            "text/plain": [
              "<Axes: >"
            ]
          },
          "execution_count": 13,
          "metadata": {},
          "output_type": "execute_result"
        },
        {
          "data": {
            "image/png": "[encoded data removed]",
            "text/plain": [
              "<Figure size 800x550 with 1 Axes>"
            ]
          },
          "metadata": {},
          "output_type": "display_data"
        }
      ],
      "source": [
        "# Checking Players Minutes Distribution\n",
        "\n",
        "game_stats['MIN'].hist()"
      ]
    },
    {
      "cell_type": "code",
      "execution_count": null,
      "id": "929db398",
      "metadata": {
        "pycharm": {
          "name": "#%%\n"
        },
        "id": "929db398",
        "outputId": "4b725f83-78de-41fb-feb8-a0ad64fffacc"
      },
      "outputs": [
        {
          "data": {
            "text/plain": [
              "<Axes: >"
            ]
          },
          "execution_count": 14,
          "metadata": {},
          "output_type": "execute_result"
        },
        {
          "data": {
            "image/png": "[encoded data removed]",
            "text/plain": [
              "<Figure size 800x550 with 1 Axes>"
            ]
          },
          "metadata": {},
          "output_type": "display_data"
        }
      ],
      "source": [
        "# Checking Players Heights Distribution\n",
        "\n",
        "players['Height'].hist()"
      ]
    },
    {
      "cell_type": "code",
      "execution_count": null,
      "id": "6a7884aa",
      "metadata": {
        "pycharm": {
          "name": "#%%\n"
        },
        "id": "6a7884aa"
      },
      "outputs": [],
      "source": [
        "players_df = players[players['Height'] > 0]['Height']"
      ]
    },
    {
      "cell_type": "code",
      "execution_count": null,
      "id": "32af8461",
      "metadata": {
        "pycharm": {
          "name": "#%%\n"
        },
        "id": "32af8461",
        "outputId": "676ee771-3744-47a1-cbac-4a54a49330bc"
      },
      "outputs": [
        {
          "data": {
            "text/plain": [
              "<Axes: >"
            ]
          },
          "execution_count": 16,
          "metadata": {},
          "output_type": "execute_result"
        },
        {
          "data": {
            "image/png": "[encoded data removed]",
            "text/plain": [
              "<Figure size 800x550 with 1 Axes>"
            ]
          },
          "metadata": {},
          "output_type": "display_data"
        }
      ],
      "source": [
        "players_df.hist()"
      ]
    },
    {
      "cell_type": "code",
      "execution_count": null,
      "id": "e142f193",
      "metadata": {
        "pycharm": {
          "name": "#%%\n"
        },
        "id": "e142f193",
        "outputId": "2912f203-8729-45a6-c831-a5eae95726b4"
      },
      "outputs": [
        {
          "data": {
            "text/plain": [
              "count    400.000000\n",
              "mean     194.612500\n",
              "std        9.899614\n",
              "min      167.000000\n",
              "25%      187.000000\n",
              "50%      194.000000\n",
              "75%      202.250000\n",
              "max      220.000000\n",
              "Name: Height, dtype: float64"
            ]
          },
          "execution_count": 17,
          "metadata": {},
          "output_type": "execute_result"
        }
      ],
      "source": [
        "players_df.describe()"
      ]
    },
    {
      "cell_type": "code",
      "execution_count": null,
      "id": "27d988ad",
      "metadata": {
        "pycharm": {
          "name": "#%%\n"
        },
        "id": "27d988ad",
        "outputId": "1c1b9aa2-9744-4140-9949-6d8ab587b265"
      },
      "outputs": [
        {
          "data": {
            "text/plain": [
              "POS\n",
              "C      78\n",
              "PF     98\n",
              "PG    133\n",
              "SF     33\n",
              "SG     61\n",
              "Name: Player Name, dtype: int64"
            ]
          },
          "execution_count": 18,
          "metadata": {},
          "output_type": "execute_result"
        }
      ],
      "source": [
        "players.groupby('POS').count()['Player Name']"
      ]
    },
    {
      "cell_type": "code",
      "execution_count": null,
      "id": "c61b165c",
      "metadata": {
        "pycharm": {
          "name": "#%%\n"
        },
        "id": "c61b165c",
        "outputId": "805880af-3b93-4636-ad60-ff20b4c37110"
      },
      "outputs": [
        {
          "data": {
            "text/plain": [
              "<Axes: xlabel='POS'>"
            ]
          },
          "execution_count": 19,
          "metadata": {},
          "output_type": "execute_result"
        },
        {
          "data": {
            "image/png": "[encoded data removed]",
            "text/plain": [
              "<Figure size 800x550 with 1 Axes>"
            ]
          },
          "metadata": {},
          "output_type": "display_data"
        }
      ],
      "source": [
        "players.groupby('POS').count()['Player Name'].sort_values().plot.bar()"
      ]
    },
    {
      "cell_type": "markdown",
      "id": "ebb81445",
      "metadata": {
        "pycharm": {
          "name": "#%% md\n"
        },
        "id": "ebb81445"
      },
      "source": [
        "In basketball, there are five traditional positions, each with its specific responsibilities and roles:\n",
        "\n",
        "\n",
        "    - Point Guard: Typically the team's primary ball-handler and playmaker. The point guard is responsible for initiating the team's offense, setting up plays, and directing the team's movement on the court.\n",
        "\n",
        "    - Shooting Guard: Usually the team's best shooter and scorer. The shooting guard is responsible for making perimeter shots, driving to the basket, and playing defense against the opposing team's guards.\n",
        "\n",
        "    - Small Forward: Usually a versatile player who can play both inside and outside. The small forward is responsible for scoring, rebounding, and playing defense.\n",
        "\n",
        "    - Power Forward: Typically a strong and athletic player who plays in the frontcourt. The power forward is responsible for rebounding, playing defense, and scoring close to the basket.\n",
        "\n",
        "    - Center: Usually the tallest player on the team, the center is responsible for defending the basket, rebounding, and scoring close to the basket."
      ]
    },
    {
      "cell_type": "markdown",
      "id": "f4efbe62",
      "metadata": {
        "pycharm": {
          "name": "#%% md\n"
        },
        "id": "f4efbe62"
      },
      "source": [
        "# Section 3: Data Preparation"
      ]
    },
    {
      "cell_type": "code",
      "execution_count": null,
      "id": "bd3a4b8a",
      "metadata": {
        "pycharm": {
          "name": "#%%\n"
        },
        "id": "bd3a4b8a",
        "outputId": "18858a2f-ce49-43a4-dd39-97495792f5fd"
      },
      "outputs": [
        {
          "data": {
            "text/html": [
              "<div>\n",
              "<style scoped>\n",
              "    .dataframe tbody tr th:only-of-type {\n",
              "        vertical-align: middle;\n",
              "    }\n",
              "\n",
              "    .dataframe tbody tr th {\n",
              "        vertical-align: top;\n",
              "    }\n",
              "\n",
              "    .dataframe thead th {\n",
              "        text-align: right;\n",
              "    }\n",
              "</style>\n",
              "<table border=\"1\" class=\"dataframe\">\n",
              "  <thead>\n",
              "    <tr style=\"text-align: right;\">\n",
              "      <th></th>\n",
              "      <th>MIN</th>\n",
              "      <th>PTS</th>\n",
              "      <th>FGM</th>\n",
              "      <th>FGA</th>\n",
              "      <th>FG%</th>\n",
              "      <th>3PM</th>\n",
              "      <th>3PA</th>\n",
              "      <th>3P%</th>\n",
              "      <th>2PM</th>\n",
              "      <th>2PA</th>\n",
              "      <th>...</th>\n",
              "      <th>ORtg</th>\n",
              "      <th>eFG%</th>\n",
              "      <th>TS%</th>\n",
              "      <th>FT Rate</th>\n",
              "      <th>AST Rate</th>\n",
              "      <th>AST/TO</th>\n",
              "      <th>TOV Rate</th>\n",
              "      <th>ORB%</th>\n",
              "      <th>DRB%</th>\n",
              "      <th>USG%</th>\n",
              "    </tr>\n",
              "    <tr>\n",
              "      <th>Id</th>\n",
              "      <th></th>\n",
              "      <th></th>\n",
              "      <th></th>\n",
              "      <th></th>\n",
              "      <th></th>\n",
              "      <th></th>\n",
              "      <th></th>\n",
              "      <th></th>\n",
              "      <th></th>\n",
              "      <th></th>\n",
              "      <th></th>\n",
              "      <th></th>\n",
              "      <th></th>\n",
              "      <th></th>\n",
              "      <th></th>\n",
              "      <th></th>\n",
              "      <th></th>\n",
              "      <th></th>\n",
              "      <th></th>\n",
              "      <th></th>\n",
              "      <th></th>\n",
              "    </tr>\n",
              "  </thead>\n",
              "  <tbody>\n",
              "    <tr>\n",
              "      <th>P_142950</th>\n",
              "      <td>4.26</td>\n",
              "      <td>1.00</td>\n",
              "      <td>0.00</td>\n",
              "      <td>1.0</td>\n",
              "      <td>0.00</td>\n",
              "      <td>0.0</td>\n",
              "      <td>0.50</td>\n",
              "      <td>0.00</td>\n",
              "      <td>0.00</td>\n",
              "      <td>0.50</td>\n",
              "      <td>...</td>\n",
              "      <td>36.54</td>\n",
              "      <td>0.00</td>\n",
              "      <td>16.66</td>\n",
              "      <td>50.00</td>\n",
              "      <td>0.00</td>\n",
              "      <td>0.00</td>\n",
              "      <td>0.00</td>\n",
              "      <td>0.00</td>\n",
              "      <td>2.94</td>\n",
              "      <td>8.02</td>\n",
              "    </tr>\n",
              "    <tr>\n",
              "      <th>P_142957</th>\n",
              "      <td>27.31</td>\n",
              "      <td>14.75</td>\n",
              "      <td>5.25</td>\n",
              "      <td>12.0</td>\n",
              "      <td>45.00</td>\n",
              "      <td>0.0</td>\n",
              "      <td>1.25</td>\n",
              "      <td>0.00</td>\n",
              "      <td>5.25</td>\n",
              "      <td>10.75</td>\n",
              "      <td>...</td>\n",
              "      <td>107.53</td>\n",
              "      <td>6.25</td>\n",
              "      <td>55.07</td>\n",
              "      <td>38.34</td>\n",
              "      <td>0.25</td>\n",
              "      <td>1.60</td>\n",
              "      <td>0.22</td>\n",
              "      <td>9.18</td>\n",
              "      <td>20.90</td>\n",
              "      <td>23.08</td>\n",
              "    </tr>\n",
              "    <tr>\n",
              "      <th>P_152307</th>\n",
              "      <td>21.77</td>\n",
              "      <td>8.00</td>\n",
              "      <td>3.00</td>\n",
              "      <td>10.0</td>\n",
              "      <td>30.00</td>\n",
              "      <td>0.0</td>\n",
              "      <td>4.00</td>\n",
              "      <td>0.00</td>\n",
              "      <td>3.00</td>\n",
              "      <td>6.00</td>\n",
              "      <td>...</td>\n",
              "      <td>74.46</td>\n",
              "      <td>0.00</td>\n",
              "      <td>36.36</td>\n",
              "      <td>20.00</td>\n",
              "      <td>0.19</td>\n",
              "      <td>2.00</td>\n",
              "      <td>0.09</td>\n",
              "      <td>0.00</td>\n",
              "      <td>17.78</td>\n",
              "      <td>22.24</td>\n",
              "    </tr>\n",
              "    <tr>\n",
              "      <th>P_152309</th>\n",
              "      <td>33.63</td>\n",
              "      <td>12.25</td>\n",
              "      <td>5.00</td>\n",
              "      <td>9.0</td>\n",
              "      <td>53.45</td>\n",
              "      <td>0.5</td>\n",
              "      <td>1.00</td>\n",
              "      <td>25.00</td>\n",
              "      <td>4.50</td>\n",
              "      <td>8.00</td>\n",
              "      <td>...</td>\n",
              "      <td>103.74</td>\n",
              "      <td>33.33</td>\n",
              "      <td>60.81</td>\n",
              "      <td>30.72</td>\n",
              "      <td>0.16</td>\n",
              "      <td>1.19</td>\n",
              "      <td>0.21</td>\n",
              "      <td>3.55</td>\n",
              "      <td>26.18</td>\n",
              "      <td>16.01</td>\n",
              "    </tr>\n",
              "    <tr>\n",
              "      <th>P_152335</th>\n",
              "      <td>23.79</td>\n",
              "      <td>7.50</td>\n",
              "      <td>3.00</td>\n",
              "      <td>9.0</td>\n",
              "      <td>34.86</td>\n",
              "      <td>1.0</td>\n",
              "      <td>4.50</td>\n",
              "      <td>39.38</td>\n",
              "      <td>2.00</td>\n",
              "      <td>4.50</td>\n",
              "      <td>...</td>\n",
              "      <td>89.56</td>\n",
              "      <td>37.20</td>\n",
              "      <td>42.54</td>\n",
              "      <td>5.56</td>\n",
              "      <td>0.37</td>\n",
              "      <td>2.50</td>\n",
              "      <td>0.18</td>\n",
              "      <td>2.46</td>\n",
              "      <td>2.30</td>\n",
              "      <td>19.42</td>\n",
              "    </tr>\n",
              "  </tbody>\n",
              "</table>\n",
              "<p>5 rows × 44 columns</p>\n",
              "</div>"
            ],
            "text/plain": [
              "            MIN    PTS   FGM   FGA    FG%  3PM   3PA    3P%   2PM    2PA  ...  \\\n",
              "Id                                                                        ...   \n",
              "P_142950   4.26   1.00  0.00   1.0   0.00  0.0  0.50   0.00  0.00   0.50  ...   \n",
              "P_142957  27.31  14.75  5.25  12.0  45.00  0.0  1.25   0.00  5.25  10.75  ...   \n",
              "P_152307  21.77   8.00  3.00  10.0  30.00  0.0  4.00   0.00  3.00   6.00  ...   \n",
              "P_152309  33.63  12.25  5.00   9.0  53.45  0.5  1.00  25.00  4.50   8.00  ...   \n",
              "P_152335  23.79   7.50  3.00   9.0  34.86  1.0  4.50  39.38  2.00   4.50  ...   \n",
              "\n",
              "            ORtg   eFG%    TS%  FT Rate  AST Rate  AST/TO  TOV Rate  ORB%  \\\n",
              "Id                                                                          \n",
              "P_142950   36.54   0.00  16.66    50.00      0.00    0.00      0.00  0.00   \n",
              "P_142957  107.53   6.25  55.07    38.34      0.25    1.60      0.22  9.18   \n",
              "P_152307   74.46   0.00  36.36    20.00      0.19    2.00      0.09  0.00   \n",
              "P_152309  103.74  33.33  60.81    30.72      0.16    1.19      0.21  3.55   \n",
              "P_152335   89.56  37.20  42.54     5.56      0.37    2.50      0.18  2.46   \n",
              "\n",
              "           DRB%   USG%  \n",
              "Id                      \n",
              "P_142950   2.94   8.02  \n",
              "P_142957  20.90  23.08  \n",
              "P_152307  17.78  22.24  \n",
              "P_152309  26.18  16.01  \n",
              "P_152335   2.30  19.42  \n",
              "\n",
              "[5 rows x 44 columns]"
            ]
          },
          "execution_count": 20,
          "metadata": {},
          "output_type": "execute_result"
        }
      ],
      "source": [
        "# Averaging Duplicated rows in the dataset\n",
        "\n",
        "grouped = game_stats.groupby('Id').mean().round(2)\n",
        "grouped.head()"
      ]
    },
    {
      "cell_type": "code",
      "execution_count": null,
      "id": "4ce313d0",
      "metadata": {
        "pycharm": {
          "name": "#%%\n"
        },
        "id": "4ce313d0",
        "outputId": "b91faca2-1017-4792-a984-c41c6e90aa02"
      },
      "outputs": [
        {
          "data": {
            "text/plain": [
              "(403, 44)"
            ]
          },
          "execution_count": 21,
          "metadata": {},
          "output_type": "execute_result"
        }
      ],
      "source": [
        "grouped.shape"
      ]
    },
    {
      "cell_type": "code",
      "execution_count": null,
      "id": "16717972",
      "metadata": {
        "pycharm": {
          "name": "#%%\n"
        },
        "id": "16717972"
      },
      "outputs": [],
      "source": [
        "# Merging the two Datasets\n",
        "\n",
        "data = pd.merge(players, grouped, on='Id')"
      ]
    },
    {
      "cell_type": "code",
      "execution_count": null,
      "id": "0fdef6d0",
      "metadata": {
        "pycharm": {
          "name": "#%%\n"
        },
        "id": "0fdef6d0",
        "outputId": "bce8a9ff-528a-48d7-c128-964ca31e3b3e"
      },
      "outputs": [
        {
          "data": {
            "text/html": [
              "<div>\n",
              "<style scoped>\n",
              "    .dataframe tbody tr th:only-of-type {\n",
              "        vertical-align: middle;\n",
              "    }\n",
              "\n",
              "    .dataframe tbody tr th {\n",
              "        vertical-align: top;\n",
              "    }\n",
              "\n",
              "    .dataframe thead th {\n",
              "        text-align: right;\n",
              "    }\n",
              "</style>\n",
              "<table border=\"1\" class=\"dataframe\">\n",
              "  <thead>\n",
              "    <tr style=\"text-align: right;\">\n",
              "      <th></th>\n",
              "      <th>Id</th>\n",
              "      <th>SN</th>\n",
              "      <th>Player Name</th>\n",
              "      <th>POS</th>\n",
              "      <th>Height</th>\n",
              "      <th>Nationality</th>\n",
              "      <th>MIN</th>\n",
              "      <th>PTS</th>\n",
              "      <th>FGM</th>\n",
              "      <th>FGA</th>\n",
              "      <th>...</th>\n",
              "      <th>ORtg</th>\n",
              "      <th>eFG%</th>\n",
              "      <th>TS%</th>\n",
              "      <th>FT Rate</th>\n",
              "      <th>AST Rate</th>\n",
              "      <th>AST/TO</th>\n",
              "      <th>TOV Rate</th>\n",
              "      <th>ORB%</th>\n",
              "      <th>DRB%</th>\n",
              "      <th>USG%</th>\n",
              "    </tr>\n",
              "  </thead>\n",
              "  <tbody>\n",
              "    <tr>\n",
              "      <th>0</th>\n",
              "      <td>P_142950</td>\n",
              "      <td>7</td>\n",
              "      <td>Aren Davoudichegani</td>\n",
              "      <td>PG</td>\n",
              "      <td>186</td>\n",
              "      <td>IRI</td>\n",
              "      <td>4.26</td>\n",
              "      <td>1.00</td>\n",
              "      <td>0.00</td>\n",
              "      <td>1.0</td>\n",
              "      <td>...</td>\n",
              "      <td>36.54</td>\n",
              "      <td>0.00</td>\n",
              "      <td>16.66</td>\n",
              "      <td>50.00</td>\n",
              "      <td>0.00</td>\n",
              "      <td>0.00</td>\n",
              "      <td>0.00</td>\n",
              "      <td>0.00</td>\n",
              "      <td>2.94</td>\n",
              "      <td>8.02</td>\n",
              "    </tr>\n",
              "    <tr>\n",
              "      <th>1</th>\n",
              "      <td>P_142957</td>\n",
              "      <td>15</td>\n",
              "      <td>Hamed EHaddadi</td>\n",
              "      <td>C</td>\n",
              "      <td>218</td>\n",
              "      <td>IRI</td>\n",
              "      <td>27.31</td>\n",
              "      <td>14.75</td>\n",
              "      <td>5.25</td>\n",
              "      <td>12.0</td>\n",
              "      <td>...</td>\n",
              "      <td>107.53</td>\n",
              "      <td>6.25</td>\n",
              "      <td>55.07</td>\n",
              "      <td>38.34</td>\n",
              "      <td>0.25</td>\n",
              "      <td>1.60</td>\n",
              "      <td>0.22</td>\n",
              "      <td>9.18</td>\n",
              "      <td>20.90</td>\n",
              "      <td>23.08</td>\n",
              "    </tr>\n",
              "    <tr>\n",
              "      <th>2</th>\n",
              "      <td>P_152307</td>\n",
              "      <td>22</td>\n",
              "      <td>Nick Fazekas</td>\n",
              "      <td>C</td>\n",
              "      <td>207</td>\n",
              "      <td>JPN</td>\n",
              "      <td>21.77</td>\n",
              "      <td>8.00</td>\n",
              "      <td>3.00</td>\n",
              "      <td>10.0</td>\n",
              "      <td>...</td>\n",
              "      <td>74.46</td>\n",
              "      <td>0.00</td>\n",
              "      <td>36.36</td>\n",
              "      <td>20.00</td>\n",
              "      <td>0.19</td>\n",
              "      <td>2.00</td>\n",
              "      <td>0.09</td>\n",
              "      <td>0.00</td>\n",
              "      <td>17.78</td>\n",
              "      <td>22.24</td>\n",
              "    </tr>\n",
              "    <tr>\n",
              "      <th>3</th>\n",
              "      <td>P_152309</td>\n",
              "      <td>12</td>\n",
              "      <td>CJ Giles</td>\n",
              "      <td>C</td>\n",
              "      <td>211</td>\n",
              "      <td>BRN</td>\n",
              "      <td>33.63</td>\n",
              "      <td>12.25</td>\n",
              "      <td>5.00</td>\n",
              "      <td>9.0</td>\n",
              "      <td>...</td>\n",
              "      <td>103.74</td>\n",
              "      <td>33.33</td>\n",
              "      <td>60.81</td>\n",
              "      <td>30.72</td>\n",
              "      <td>0.16</td>\n",
              "      <td>1.19</td>\n",
              "      <td>0.21</td>\n",
              "      <td>3.55</td>\n",
              "      <td>26.18</td>\n",
              "      <td>16.01</td>\n",
              "    </tr>\n",
              "    <tr>\n",
              "      <th>4</th>\n",
              "      <td>P_152335</td>\n",
              "      <td>8</td>\n",
              "      <td>Saeid Davarpanah</td>\n",
              "      <td>SF</td>\n",
              "      <td>190</td>\n",
              "      <td>IRI</td>\n",
              "      <td>23.79</td>\n",
              "      <td>7.50</td>\n",
              "      <td>3.00</td>\n",
              "      <td>9.0</td>\n",
              "      <td>...</td>\n",
              "      <td>89.56</td>\n",
              "      <td>37.20</td>\n",
              "      <td>42.54</td>\n",
              "      <td>5.56</td>\n",
              "      <td>0.37</td>\n",
              "      <td>2.50</td>\n",
              "      <td>0.18</td>\n",
              "      <td>2.46</td>\n",
              "      <td>2.30</td>\n",
              "      <td>19.42</td>\n",
              "    </tr>\n",
              "  </tbody>\n",
              "</table>\n",
              "<p>5 rows × 50 columns</p>\n",
              "</div>"
            ],
            "text/plain": [
              "         Id  SN          Player Name POS  Height Nationality    MIN    PTS  \\\n",
              "0  P_142950   7  Aren Davoudichegani  PG     186         IRI   4.26   1.00   \n",
              "1  P_142957  15       Hamed EHaddadi   C     218         IRI  27.31  14.75   \n",
              "2  P_152307  22         Nick Fazekas   C     207         JPN  21.77   8.00   \n",
              "3  P_152309  12             CJ Giles   C     211         BRN  33.63  12.25   \n",
              "4  P_152335   8     Saeid Davarpanah  SF     190         IRI  23.79   7.50   \n",
              "\n",
              "    FGM   FGA  ...    ORtg   eFG%    TS%  FT Rate  AST Rate  AST/TO  TOV Rate  \\\n",
              "0  0.00   1.0  ...   36.54   0.00  16.66    50.00      0.00    0.00      0.00   \n",
              "1  5.25  12.0  ...  107.53   6.25  55.07    38.34      0.25    1.60      0.22   \n",
              "2  3.00  10.0  ...   74.46   0.00  36.36    20.00      0.19    2.00      0.09   \n",
              "3  5.00   9.0  ...  103.74  33.33  60.81    30.72      0.16    1.19      0.21   \n",
              "4  3.00   9.0  ...   89.56  37.20  42.54     5.56      0.37    2.50      0.18   \n",
              "\n",
              "   ORB%   DRB%   USG%  \n",
              "0  0.00   2.94   8.02  \n",
              "1  9.18  20.90  23.08  \n",
              "2  0.00  17.78  22.24  \n",
              "3  3.55  26.18  16.01  \n",
              "4  2.46   2.30  19.42  \n",
              "\n",
              "[5 rows x 50 columns]"
            ]
          },
          "execution_count": 23,
          "metadata": {},
          "output_type": "execute_result"
        }
      ],
      "source": [
        "data.head()"
      ]
    },
    {
      "cell_type": "code",
      "execution_count": null,
      "id": "13cacec4",
      "metadata": {
        "pycharm": {
          "name": "#%%\n"
        },
        "id": "13cacec4"
      },
      "outputs": [],
      "source": [
        "# Dropping unnecessary columns\n",
        "\n",
        "data.drop(['SN', 'Height', 'Nationality'], axis=1, inplace=True)"
      ]
    },
    {
      "cell_type": "code",
      "execution_count": null,
      "id": "7570d08e",
      "metadata": {
        "pycharm": {
          "name": "#%%\n"
        },
        "id": "7570d08e",
        "outputId": "11de82bf-1740-4c4b-db58-f33239b0964d"
      },
      "outputs": [
        {
          "data": {
            "text/plain": [
              "403"
            ]
          },
          "execution_count": 25,
          "metadata": {},
          "output_type": "execute_result"
        }
      ],
      "source": [
        "data.shape[0] # Total number of players"
      ]
    },
    {
      "cell_type": "code",
      "execution_count": null,
      "id": "f1ed83d4",
      "metadata": {
        "pycharm": {
          "name": "#%%\n"
        },
        "id": "f1ed83d4",
        "outputId": "7aae0b07-32e8-4a26-818a-feecc3044ca6"
      },
      "outputs": [
        {
          "data": {
            "text/plain": [
              "count    403.000000\n",
              "mean      14.743474\n",
              "std        8.600865\n",
              "min        0.000000\n",
              "25%        7.625000\n",
              "50%       14.860000\n",
              "75%       20.725000\n",
              "max       40.000000\n",
              "Name: MIN, dtype: float64"
            ]
          },
          "execution_count": 26,
          "metadata": {},
          "output_type": "execute_result"
        }
      ],
      "source": [
        "data['MIN'].describe()"
      ]
    },
    {
      "cell_type": "code",
      "execution_count": null,
      "id": "2ad2da62",
      "metadata": {
        "pycharm": {
          "name": "#%%\n"
        },
        "id": "2ad2da62"
      },
      "outputs": [],
      "source": [
        "data = data[data['MIN'] > 0] # Removing Players that never played"
      ]
    },
    {
      "cell_type": "code",
      "execution_count": null,
      "id": "7f7a6ffe",
      "metadata": {
        "pycharm": {
          "name": "#%%\n"
        },
        "id": "7f7a6ffe",
        "outputId": "21a740ef-00f7-4541-f34b-c7fead3e9670"
      },
      "outputs": [
        {
          "data": {
            "text/plain": [
              "392"
            ]
          },
          "execution_count": 28,
          "metadata": {},
          "output_type": "execute_result"
        }
      ],
      "source": [
        "data.shape[0] # Number of players that played"
      ]
    },
    {
      "cell_type": "code",
      "execution_count": null,
      "id": "a50b289f",
      "metadata": {
        "pycharm": {
          "name": "#%%\n"
        },
        "id": "a50b289f",
        "outputId": "2a30c039-6b40-4c83-9bd3-71f4674151ce"
      },
      "outputs": [
        {
          "data": {
            "text/plain": [
              "15.15719387755102"
            ]
          },
          "execution_count": 29,
          "metadata": {},
          "output_type": "execute_result"
        }
      ],
      "source": [
        "data['MIN'].mean()"
      ]
    },
    {
      "cell_type": "code",
      "execution_count": null,
      "id": "0a9f9f01",
      "metadata": {
        "pycharm": {
          "name": "#%%\n"
        },
        "id": "0a9f9f01"
      },
      "outputs": [],
      "source": [
        "data = data[data['MIN'] > data['MIN'].mean()] # Keeping only the players that played above average playing time in the tournament"
      ]
    },
    {
      "cell_type": "code",
      "execution_count": null,
      "id": "ff0e4ef8",
      "metadata": {
        "pycharm": {
          "name": "#%%\n"
        },
        "id": "ff0e4ef8",
        "outputId": "12df7145-26f2-428c-cd27-538fd577c23c"
      },
      "outputs": [
        {
          "data": {
            "text/plain": [
              "198"
            ]
          },
          "execution_count": 31,
          "metadata": {},
          "output_type": "execute_result"
        }
      ],
      "source": [
        "data.shape[0] # Number of players that played above average playing time"
      ]
    },
    {
      "cell_type": "code",
      "execution_count": null,
      "id": "b26d1f86",
      "metadata": {
        "pycharm": {
          "name": "#%%\n"
        },
        "id": "b26d1f86"
      },
      "outputs": [],
      "source": [
        "data.reset_index(inplace=True, drop=True)"
      ]
    },
    {
      "cell_type": "code",
      "execution_count": null,
      "id": "87046e4a",
      "metadata": {
        "pycharm": {
          "name": "#%%\n"
        },
        "id": "87046e4a",
        "outputId": "7e529d76-6ea9-40a7-c442-8c209f100a13"
      },
      "outputs": [
        {
          "data": {
            "text/html": [
              "<div>\n",
              "<style scoped>\n",
              "    .dataframe tbody tr th:only-of-type {\n",
              "        vertical-align: middle;\n",
              "    }\n",
              "\n",
              "    .dataframe tbody tr th {\n",
              "        vertical-align: top;\n",
              "    }\n",
              "\n",
              "    .dataframe thead th {\n",
              "        text-align: right;\n",
              "    }\n",
              "</style>\n",
              "<table border=\"1\" class=\"dataframe\">\n",
              "  <thead>\n",
              "    <tr style=\"text-align: right;\">\n",
              "      <th></th>\n",
              "      <th>Id</th>\n",
              "      <th>Player Name</th>\n",
              "      <th>POS</th>\n",
              "      <th>MIN</th>\n",
              "      <th>PTS</th>\n",
              "      <th>FGM</th>\n",
              "      <th>FGA</th>\n",
              "      <th>FG%</th>\n",
              "      <th>3PM</th>\n",
              "      <th>3PA</th>\n",
              "      <th>...</th>\n",
              "      <th>ORtg</th>\n",
              "      <th>eFG%</th>\n",
              "      <th>TS%</th>\n",
              "      <th>FT Rate</th>\n",
              "      <th>AST Rate</th>\n",
              "      <th>AST/TO</th>\n",
              "      <th>TOV Rate</th>\n",
              "      <th>ORB%</th>\n",
              "      <th>DRB%</th>\n",
              "      <th>USG%</th>\n",
              "    </tr>\n",
              "  </thead>\n",
              "  <tbody>\n",
              "    <tr>\n",
              "      <th>0</th>\n",
              "      <td>P_142957</td>\n",
              "      <td>Hamed EHaddadi</td>\n",
              "      <td>C</td>\n",
              "      <td>27.31</td>\n",
              "      <td>14.75</td>\n",
              "      <td>5.25</td>\n",
              "      <td>12.0</td>\n",
              "      <td>45.00</td>\n",
              "      <td>0.00</td>\n",
              "      <td>1.25</td>\n",
              "      <td>...</td>\n",
              "      <td>107.53</td>\n",
              "      <td>6.25</td>\n",
              "      <td>55.07</td>\n",
              "      <td>38.34</td>\n",
              "      <td>0.25</td>\n",
              "      <td>1.60</td>\n",
              "      <td>0.22</td>\n",
              "      <td>9.18</td>\n",
              "      <td>20.90</td>\n",
              "      <td>23.08</td>\n",
              "    </tr>\n",
              "    <tr>\n",
              "      <th>1</th>\n",
              "      <td>P_152307</td>\n",
              "      <td>Nick Fazekas</td>\n",
              "      <td>C</td>\n",
              "      <td>21.77</td>\n",
              "      <td>8.00</td>\n",
              "      <td>3.00</td>\n",
              "      <td>10.0</td>\n",
              "      <td>30.00</td>\n",
              "      <td>0.00</td>\n",
              "      <td>4.00</td>\n",
              "      <td>...</td>\n",
              "      <td>74.46</td>\n",
              "      <td>0.00</td>\n",
              "      <td>36.36</td>\n",
              "      <td>20.00</td>\n",
              "      <td>0.19</td>\n",
              "      <td>2.00</td>\n",
              "      <td>0.09</td>\n",
              "      <td>0.00</td>\n",
              "      <td>17.78</td>\n",
              "      <td>22.24</td>\n",
              "    </tr>\n",
              "    <tr>\n",
              "      <th>2</th>\n",
              "      <td>P_152309</td>\n",
              "      <td>CJ Giles</td>\n",
              "      <td>C</td>\n",
              "      <td>33.63</td>\n",
              "      <td>12.25</td>\n",
              "      <td>5.00</td>\n",
              "      <td>9.0</td>\n",
              "      <td>53.45</td>\n",
              "      <td>0.50</td>\n",
              "      <td>1.00</td>\n",
              "      <td>...</td>\n",
              "      <td>103.74</td>\n",
              "      <td>33.33</td>\n",
              "      <td>60.81</td>\n",
              "      <td>30.72</td>\n",
              "      <td>0.16</td>\n",
              "      <td>1.19</td>\n",
              "      <td>0.21</td>\n",
              "      <td>3.55</td>\n",
              "      <td>26.18</td>\n",
              "      <td>16.01</td>\n",
              "    </tr>\n",
              "    <tr>\n",
              "      <th>3</th>\n",
              "      <td>P_152335</td>\n",
              "      <td>Saeid Davarpanah</td>\n",
              "      <td>SF</td>\n",
              "      <td>23.79</td>\n",
              "      <td>7.50</td>\n",
              "      <td>3.00</td>\n",
              "      <td>9.0</td>\n",
              "      <td>34.86</td>\n",
              "      <td>1.00</td>\n",
              "      <td>4.50</td>\n",
              "      <td>...</td>\n",
              "      <td>89.56</td>\n",
              "      <td>37.20</td>\n",
              "      <td>42.54</td>\n",
              "      <td>5.56</td>\n",
              "      <td>0.37</td>\n",
              "      <td>2.50</td>\n",
              "      <td>0.18</td>\n",
              "      <td>2.46</td>\n",
              "      <td>2.30</td>\n",
              "      <td>19.42</td>\n",
              "    </tr>\n",
              "    <tr>\n",
              "      <th>4</th>\n",
              "      <td>P_156348</td>\n",
              "      <td>Rob Loe</td>\n",
              "      <td>C</td>\n",
              "      <td>21.48</td>\n",
              "      <td>14.25</td>\n",
              "      <td>5.50</td>\n",
              "      <td>11.0</td>\n",
              "      <td>53.41</td>\n",
              "      <td>2.25</td>\n",
              "      <td>5.50</td>\n",
              "      <td>...</td>\n",
              "      <td>134.94</td>\n",
              "      <td>65.62</td>\n",
              "      <td>68.41</td>\n",
              "      <td>8.48</td>\n",
              "      <td>0.23</td>\n",
              "      <td>2.08</td>\n",
              "      <td>0.14</td>\n",
              "      <td>10.86</td>\n",
              "      <td>14.45</td>\n",
              "      <td>21.60</td>\n",
              "    </tr>\n",
              "  </tbody>\n",
              "</table>\n",
              "<p>5 rows × 47 columns</p>\n",
              "</div>"
            ],
            "text/plain": [
              "         Id       Player Name POS    MIN    PTS   FGM   FGA    FG%   3PM  \\\n",
              "0  P_142957    Hamed EHaddadi   C  27.31  14.75  5.25  12.0  45.00  0.00   \n",
              "1  P_152307      Nick Fazekas   C  21.77   8.00  3.00  10.0  30.00  0.00   \n",
              "2  P_152309          CJ Giles   C  33.63  12.25  5.00   9.0  53.45  0.50   \n",
              "3  P_152335  Saeid Davarpanah  SF  23.79   7.50  3.00   9.0  34.86  1.00   \n",
              "4  P_156348           Rob Loe   C  21.48  14.25  5.50  11.0  53.41  2.25   \n",
              "\n",
              "    3PA  ...    ORtg   eFG%    TS%  FT Rate  AST Rate  AST/TO  TOV Rate  \\\n",
              "0  1.25  ...  107.53   6.25  55.07    38.34      0.25    1.60      0.22   \n",
              "1  4.00  ...   74.46   0.00  36.36    20.00      0.19    2.00      0.09   \n",
              "2  1.00  ...  103.74  33.33  60.81    30.72      0.16    1.19      0.21   \n",
              "3  4.50  ...   89.56  37.20  42.54     5.56      0.37    2.50      0.18   \n",
              "4  5.50  ...  134.94  65.62  68.41     8.48      0.23    2.08      0.14   \n",
              "\n",
              "    ORB%   DRB%   USG%  \n",
              "0   9.18  20.90  23.08  \n",
              "1   0.00  17.78  22.24  \n",
              "2   3.55  26.18  16.01  \n",
              "3   2.46   2.30  19.42  \n",
              "4  10.86  14.45  21.60  \n",
              "\n",
              "[5 rows x 47 columns]"
            ]
          },
          "execution_count": 33,
          "metadata": {},
          "output_type": "execute_result"
        }
      ],
      "source": [
        "data.head()"
      ]
    },
    {
      "cell_type": "code",
      "execution_count": null,
      "id": "f6782be1",
      "metadata": {
        "pycharm": {
          "name": "#%%\n"
        },
        "id": "f6782be1",
        "outputId": "9a90b00e-a7be-41d8-b089-42ecc2cab429"
      },
      "outputs": [
        {
          "data": {
            "text/plain": [
              "Index(['Id', 'Player Name', 'POS', 'MIN', 'PTS', 'FGM', 'FGA', 'FG%', '3PM',\n",
              "       '3PA', '3P%', '2PM', '2PA', '2P%', 'FTM', 'FTA', 'FT%', 'DR', 'OR',\n",
              "       'TR', 'AST', 'TO', 'STL', 'BLK', 'TPF', 'TPFD', 'TSFD', 'MidRangePTS',\n",
              "       'MidRangeM', 'MidRangeA', 'MidRange%', 'PaintPTS', 'PaintM', 'PaintA',\n",
              "       'Paint%', 'Floor%', 'DRtg', 'ORtg', 'eFG%', 'TS%', 'FT Rate',\n",
              "       'AST Rate', 'AST/TO', 'TOV Rate', 'ORB%', 'DRB%', 'USG%'],\n",
              "      dtype='object')"
            ]
          },
          "execution_count": 34,
          "metadata": {},
          "output_type": "execute_result"
        }
      ],
      "source": [
        "data.columns"
      ]
    },
    {
      "cell_type": "code",
      "execution_count": null,
      "id": "f6307f03",
      "metadata": {
        "pycharm": {
          "name": "#%%\n"
        },
        "id": "f6307f03"
      },
      "outputs": [],
      "source": [
        "features = ['PTS', 'FGM', 'FGA', 'FG%', '3PM', '3PA', '3P%', '2PM', '2PA', '2P%', 'FTM', 'FTA', 'FT%',\n",
        "            'DR', 'OR', 'TR', 'AST', 'TO', 'STL', 'BLK',\n",
        "            'TPF', 'TPFD', 'TSFD',\n",
        "            'MidRangePTS', 'MidRangeM', 'MidRangeA', 'MidRange%', 'PaintPTS', 'PaintM', 'PaintA', 'Paint%',\n",
        "            'Floor%', 'DRtg', 'ORtg', 'eFG%', 'TS%', 'USG%',\n",
        "            'FT Rate', 'AST Rate', 'AST/TO', 'TOV Rate', 'ORB%', 'DRB%']"
      ]
    },
    {
      "cell_type": "code",
      "execution_count": null,
      "id": "fb6db68d",
      "metadata": {
        "pycharm": {
          "name": "#%%\n"
        },
        "id": "fb6db68d"
      },
      "outputs": [],
      "source": [
        "x = data.loc[:, features].values\n",
        "\n",
        "x = StandardScaler().fit_transform(x) # Normalizing Data"
      ]
    },
    {
      "cell_type": "code",
      "execution_count": null,
      "id": "f4cde467",
      "metadata": {
        "pycharm": {
          "name": "#%%\n"
        },
        "id": "f4cde467",
        "outputId": "61594e42-c2cd-4720-ec8b-8c8e12ebe766"
      },
      "outputs": [
        {
          "data": {
            "text/plain": [
              "array([[ 1.29271021,  1.23875207,  1.44913078, ...,  0.36384513,\n",
              "         2.429547  ,  2.59258826],\n",
              "       [-0.17700345, -0.13479576,  0.80460246, ..., -0.91732774,\n",
              "        -1.14076039,  1.95952081],\n",
              "       [ 0.74837182,  1.08613564,  0.4823383 , ...,  0.26529337,\n",
              "         0.23991403,  3.66393316],\n",
              "       ...,\n",
              "       [-1.26568023, -1.05049431, -0.96785041, ...,  0.75805217,\n",
              "        -1.14076039,  0.40323002],\n",
              "       [-0.97609221, -0.94671514, -0.91306551, ...,  0.56094865,\n",
              "        -0.45236779, -0.69652175],\n",
              "       [ 2.32695315,  2.6122999 ,  1.61026286, ..., -1.41008653,\n",
              "         0.60939029,  3.09579571]])"
            ]
          },
          "execution_count": 98,
          "metadata": {},
          "output_type": "execute_result"
        }
      ],
      "source": [
        "x"
      ]
    },
    {
      "cell_type": "markdown",
      "id": "c2cb550c",
      "metadata": {
        "pycharm": {
          "name": "#%% md\n"
        },
        "id": "c2cb550c"
      },
      "source": [
        "Why We Normalize Data?\n",
        "\n",
        "Normalization is a scaling technique wherein it makes the data scale-free by converting the statistical distribution of the data into the below format:\n",
        "* mean - 0 (zero)\n",
        "* standard deviation - 1"
      ]
    },
    {
      "cell_type": "code",
      "execution_count": null,
      "id": "03d6f38b",
      "metadata": {
        "pycharm": {
          "name": "#%%\n"
        },
        "id": "03d6f38b",
        "outputId": "80fb5204-f808-4f55-ef40-dcd138c273db"
      },
      "outputs": [
        {
          "data": {
            "text/plain": [
              "(0, 1.0)"
            ]
          },
          "execution_count": 99,
          "metadata": {},
          "output_type": "execute_result"
        }
      ],
      "source": [
        "round(np.mean(x)), np.std(x)"
      ]
    },
    {
      "cell_type": "markdown",
      "id": "eb9a1bb9",
      "metadata": {
        "pycharm": {
          "name": "#%% md\n"
        },
        "id": "eb9a1bb9"
      },
      "source": [
        "How many features should we keep?\n",
        "Finding the optinal number of features using Principal component analysis"
      ]
    },
    {
      "cell_type": "code",
      "execution_count": null,
      "id": "00f9a8b2",
      "metadata": {
        "pycharm": {
          "name": "#%%\n"
        },
        "id": "00f9a8b2",
        "outputId": "2d4e4bea-d539-4c54-fcd0-139922ab6a94"
      },
      "outputs": [
        {
          "name": "stdout",
          "output_type": "stream",
          "text": [
            "For n_components = 2, explained variance ratio is 0.46021351019229506\n",
            "For n_components = 3, explained variance ratio is 0.5710532230731361\n",
            "For n_components = 4, explained variance ratio is 0.6382415531863239\n",
            "For n_components = 5, explained variance ratio is 0.6952940949601829\n",
            "For n_components = 6, explained variance ratio is 0.7425103620137076\n",
            "For n_components = 7, explained variance ratio is 0.7859401885025085\n",
            "For n_components = 8, explained variance ratio is 0.8225396931548135\n",
            "For n_components = 9, explained variance ratio is 0.8493448108125186\n",
            "For n_components = 10, explained variance ratio is 0.8709850803265655\n",
            "For n_components = 11, explained variance ratio is 0.8908048771043144\n",
            "For n_components = 12, explained variance ratio is 0.907360146793462\n",
            "For n_components = 13, explained variance ratio is 0.920762310624184\n",
            "For n_components = 14, explained variance ratio is 0.9335747613380785\n",
            "For n_components = 15, explained variance ratio is 0.9448277935992768\n",
            "For n_components = 16, explained variance ratio is 0.9537425485880842\n",
            "For n_components = 17, explained variance ratio is 0.9612243129260363\n",
            "For n_components = 18, explained variance ratio is 0.967490142156754\n",
            "For n_components = 19, explained variance ratio is 0.9736324159401902\n",
            "For n_components = 20, explained variance ratio is 0.9788327099857029\n"
          ]
        }
      ],
      "source": [
        "pca_list = []\n",
        "\n",
        "for n_components in range(2, 21):\n",
        "    pca = PCA(n_components = n_components)\n",
        "    pca.fit_transform(x)\n",
        "    pca_variance = sum(pca.explained_variance_ratio_)\n",
        "    pca_list.append(pca_variance)\n",
        "    print(f\"For n_components = {n_components}, explained variance ratio is {pca_variance}\")"
      ]
    },
    {
      "cell_type": "code",
      "execution_count": null,
      "id": "cf94342b",
      "metadata": {
        "pycharm": {
          "name": "#%%\n"
        },
        "id": "cf94342b",
        "outputId": "11a71f40-a0ee-4608-ea95-c53d9ee1d93a"
      },
      "outputs": [
        {
          "data": {
            "text/plain": [
              "Text(0.5, 0.98, 'Finding the right number of components')"
            ]
          },
          "execution_count": 110,
          "metadata": {},
          "output_type": "execute_result"
        },
        {
          "data": {
            "image/png": "[encoded data removed]",
            "text/plain": [
              "<Figure size 800x550 with 1 Axes>"
            ]
          },
          "metadata": {},
          "output_type": "display_data"
        }
      ],
      "source": [
        "plt.style.use('fivethirtyeight')\n",
        "\n",
        "pca_fig, ax = plt.subplots()\n",
        "\n",
        "ax.plot(range(2, 21), pca_list)\n",
        "\n",
        "ax.set_xlabel('Number of components')\n",
        "ax.set_ylabel('Explained variance ratio')\n",
        "\n",
        "ax.set_xticks(np.arange(2, 21, 1))\n",
        "\n",
        "ax.axhline(.87, c='r', linestyle='--', linewidth=1)\n",
        "\n",
        "pca_fig.suptitle(\"Finding the right number of components\", weight = 'bold', size = 18)"
      ]
    },
    {
      "cell_type": "code",
      "execution_count": null,
      "id": "ccc1ccb0",
      "metadata": {
        "pycharm": {
          "name": "#%%\n"
        },
        "id": "ccc1ccb0",
        "outputId": "a01572e0-d0fb-4b08-cf32-8ff56acc9ec9"
      },
      "outputs": [
        {
          "data": {
            "text/plain": [
              "Text(0.5, 0.98, 'Finding the right number of components')"
            ]
          },
          "execution_count": 109,
          "metadata": {},
          "output_type": "execute_result"
        },
        {
          "data": {
            "image/png": "[encoded data removed]",
            "text/plain": [
              "<Figure size 800x550 with 1 Axes>"
            ]
          },
          "metadata": {},
          "output_type": "display_data"
        }
      ],
      "source": [
        "plt.style.use('fivethirtyeight')\n",
        "\n",
        "pca_deriv, ax = plt.subplots()\n",
        "\n",
        "ax.plot(range(2, 22), pca.explained_variance_)\n",
        "\n",
        "ax.set_xlabel('Eigenvalue number', c='k')\n",
        "ax.set_ylabel('Eigenvalue size', c='k')\n",
        "\n",
        "ax.set_xticks(np.arange(2, 22, 1))\n",
        "\n",
        "ax.axhline(1, c='r', linestyle='--', linewidth=1)\n",
        "\n",
        "pca_deriv.suptitle(\"Finding the right number of components\", weight = 'bold', size = 18)"
      ]
    },
    {
      "cell_type": "code",
      "execution_count": null,
      "id": "fac4b48d",
      "metadata": {
        "pycharm": {
          "name": "#%%\n"
        },
        "id": "fac4b48d"
      },
      "outputs": [],
      "source": [
        "n = 10 # Number of components\n",
        "cols = [f\"PC {x + 1}\" for x in range(n)]\n",
        "pca = PCA(n_components = n)\n",
        "\n",
        "components = pca.fit_transform(x)\n",
        "\n",
        "pca_df = pd.DataFrame(data = components, columns = cols)\n",
        "\n",
        "pca_df['Player'] = data['Player Name']\n",
        "pca_df = pca_df[['Player'] + cols]"
      ]
    },
    {
      "cell_type": "code",
      "execution_count": null,
      "id": "43e85065",
      "metadata": {
        "pycharm": {
          "name": "#%%\n"
        },
        "id": "43e85065",
        "outputId": "b49ec214-a332-40b2-c4a6-ac3a1e20b48b"
      },
      "outputs": [
        {
          "data": {
            "text/html": [
              "<div>\n",
              "<style scoped>\n",
              "    .dataframe tbody tr th:only-of-type {\n",
              "        vertical-align: middle;\n",
              "    }\n",
              "\n",
              "    .dataframe tbody tr th {\n",
              "        vertical-align: top;\n",
              "    }\n",
              "\n",
              "    .dataframe thead th {\n",
              "        text-align: right;\n",
              "    }\n",
              "</style>\n",
              "<table border=\"1\" class=\"dataframe\">\n",
              "  <thead>\n",
              "    <tr style=\"text-align: right;\">\n",
              "      <th></th>\n",
              "      <th>Player</th>\n",
              "      <th>PC 1</th>\n",
              "      <th>PC 2</th>\n",
              "      <th>PC 3</th>\n",
              "      <th>PC 4</th>\n",
              "      <th>PC 5</th>\n",
              "      <th>PC 6</th>\n",
              "      <th>PC 7</th>\n",
              "      <th>PC 8</th>\n",
              "      <th>PC 9</th>\n",
              "      <th>PC 10</th>\n",
              "    </tr>\n",
              "  </thead>\n",
              "  <tbody>\n",
              "    <tr>\n",
              "      <th>0</th>\n",
              "      <td>Hamed EHaddadi</td>\n",
              "      <td>10.013678</td>\n",
              "      <td>-3.380336</td>\n",
              "      <td>-3.951142</td>\n",
              "      <td>-2.886089</td>\n",
              "      <td>2.034776</td>\n",
              "      <td>-1.044736</td>\n",
              "      <td>-0.857172</td>\n",
              "      <td>0.979979</td>\n",
              "      <td>-0.150009</td>\n",
              "      <td>0.572929</td>\n",
              "    </tr>\n",
              "    <tr>\n",
              "      <th>1</th>\n",
              "      <td>Nick Fazekas</td>\n",
              "      <td>2.642055</td>\n",
              "      <td>-1.518087</td>\n",
              "      <td>-1.108254</td>\n",
              "      <td>-0.019467</td>\n",
              "      <td>1.944228</td>\n",
              "      <td>-2.441284</td>\n",
              "      <td>-0.896221</td>\n",
              "      <td>-2.547797</td>\n",
              "      <td>5.080643</td>\n",
              "      <td>1.055216</td>\n",
              "    </tr>\n",
              "    <tr>\n",
              "      <th>2</th>\n",
              "      <td>CJ Giles</td>\n",
              "      <td>4.751280</td>\n",
              "      <td>-0.821901</td>\n",
              "      <td>-2.055322</td>\n",
              "      <td>1.160132</td>\n",
              "      <td>-1.009654</td>\n",
              "      <td>-0.377656</td>\n",
              "      <td>0.388989</td>\n",
              "      <td>1.953421</td>\n",
              "      <td>0.778513</td>\n",
              "      <td>-1.102415</td>\n",
              "    </tr>\n",
              "    <tr>\n",
              "      <th>3</th>\n",
              "      <td>Saeid Davarpanah</td>\n",
              "      <td>-1.316833</td>\n",
              "      <td>3.250970</td>\n",
              "      <td>0.111373</td>\n",
              "      <td>2.316501</td>\n",
              "      <td>1.143717</td>\n",
              "      <td>-1.911262</td>\n",
              "      <td>0.861984</td>\n",
              "      <td>0.565366</td>\n",
              "      <td>0.328999</td>\n",
              "      <td>1.962102</td>\n",
              "    </tr>\n",
              "    <tr>\n",
              "      <th>4</th>\n",
              "      <td>Rob Loe</td>\n",
              "      <td>4.379153</td>\n",
              "      <td>-0.789605</td>\n",
              "      <td>2.124853</td>\n",
              "      <td>-1.361878</td>\n",
              "      <td>-3.295216</td>\n",
              "      <td>-2.243783</td>\n",
              "      <td>-1.594529</td>\n",
              "      <td>1.171801</td>\n",
              "      <td>-0.507431</td>\n",
              "      <td>-0.113126</td>\n",
              "    </tr>\n",
              "  </tbody>\n",
              "</table>\n",
              "</div>"
            ],
            "text/plain": [
              "             Player       PC 1      PC 2      PC 3      PC 4      PC 5  \\\n",
              "0    Hamed EHaddadi  10.013678 -3.380336 -3.951142 -2.886089  2.034776   \n",
              "1      Nick Fazekas   2.642055 -1.518087 -1.108254 -0.019467  1.944228   \n",
              "2          CJ Giles   4.751280 -0.821901 -2.055322  1.160132 -1.009654   \n",
              "3  Saeid Davarpanah  -1.316833  3.250970  0.111373  2.316501  1.143717   \n",
              "4           Rob Loe   4.379153 -0.789605  2.124853 -1.361878 -3.295216   \n",
              "\n",
              "       PC 6      PC 7      PC 8      PC 9     PC 10  \n",
              "0 -1.044736 -0.857172  0.979979 -0.150009  0.572929  \n",
              "1 -2.441284 -0.896221 -2.547797  5.080643  1.055216  \n",
              "2 -0.377656  0.388989  1.953421  0.778513 -1.102415  \n",
              "3 -1.911262  0.861984  0.565366  0.328999  1.962102  \n",
              "4 -2.243783 -1.594529  1.171801 -0.507431 -0.113126  "
            ]
          },
          "execution_count": 112,
          "metadata": {},
          "output_type": "execute_result"
        }
      ],
      "source": [
        "pca_df.head()"
      ]
    },
    {
      "cell_type": "code",
      "execution_count": null,
      "id": "a2d4c8d0",
      "metadata": {
        "pycharm": {
          "name": "#%%\n"
        },
        "id": "a2d4c8d0",
        "outputId": "769c1113-2010-4a0c-8b7f-cfb9293be6e8"
      },
      "outputs": [
        {
          "name": "stdout",
          "output_type": "stream",
          "text": [
            "[0.33146032 0.12875319 0.11083971 0.06718833 0.05705254 0.04721627\n",
            " 0.04342983 0.0365995  0.02680512 0.02164027]\n",
            "0.8709850803265655\n"
          ]
        }
      ],
      "source": [
        "print(pca.explained_variance_ratio_)\n",
        "print(sum(pca.explained_variance_ratio_))"
      ]
    },
    {
      "cell_type": "markdown",
      "id": "65ed1fff",
      "metadata": {
        "pycharm": {
          "name": "#%% md\n"
        },
        "id": "65ed1fff"
      },
      "source": [
        "# Section 4: Data Modeling\n",
        "\n",
        "## Question 1: What Kind of Players we have in the Tournament?"
      ]
    },
    {
      "cell_type": "markdown",
      "id": "1f01bd79",
      "metadata": {
        "pycharm": {
          "name": "#%% md\n"
        },
        "id": "1f01bd79"
      },
      "source": [
        "### What Algorithm Should We Choose?"
      ]
    },
    {
      "cell_type": "markdown",
      "id": "4854fa95",
      "metadata": {
        "pycharm": {
          "name": "#%% md\n"
        },
        "id": "4854fa95"
      },
      "source": [
        "How Many Clusters should we have?\n",
        "\n",
        "Checking the Silhouette Score for optimal number of clusters"
      ]
    },
    {
      "cell_type": "code",
      "execution_count": null,
      "id": "e31c8cf5",
      "metadata": {
        "pycharm": {
          "name": "#%%\n"
        },
        "id": "e31c8cf5",
        "outputId": "0a73637e-1324-4a0d-c2ea-ad3f0f6f4d61"
      },
      "outputs": [
        {
          "name": "stdout",
          "output_type": "stream",
          "text": [
            "For n_clusters = 2, silhouette score is 0.28511909676476965\n",
            "For n_clusters = 3, silhouette score is 0.15826627837628465\n",
            "For n_clusters = 4, silhouette score is 0.1406822864951431\n",
            "For n_clusters = 5, silhouette score is 0.14111326233300017\n",
            "For n_clusters = 6, silhouette score is 0.15292314005941707\n",
            "For n_clusters = 7, silhouette score is 0.1317619584000927\n",
            "For n_clusters = 8, silhouette score is 0.13204893584162242\n",
            "For n_clusters = 9, silhouette score is 0.1326015627481444\n",
            "For n_clusters = 10, silhouette score is 0.14396234441700337\n",
            "For n_clusters = 11, silhouette score is 0.13603090400687326\n",
            "For n_clusters = 12, silhouette score is 0.13058587395207585\n",
            "For n_clusters = 13, silhouette score is 0.13751183662231592\n",
            "For n_clusters = 14, silhouette score is 0.13809905111633577\n",
            "For n_clusters = 15, silhouette score is 0.14088291726400326\n",
            "For n_clusters = 16, silhouette score is 0.12317882890184602\n",
            "For n_clusters = 17, silhouette score is 0.1310199038681807\n",
            "For n_clusters = 18, silhouette score is 0.13664703603418463\n",
            "For n_clusters = 19, silhouette score is 0.12699615537356546\n",
            "For n_clusters = 20, silhouette score is 0.1294065236572137\n"
          ]
        }
      ],
      "source": [
        "x = pca_df[pca_df.columns.values[1:]].to_numpy()\n",
        "\n",
        "silhouette = []\n",
        "\n",
        "for n_clusters in range(2, 21):\n",
        "    kmeans = KMeans(n_clusters = n_clusters, random_state = 99, n_init=10)\n",
        "    cluster_labels = kmeans.fit_predict(x)\n",
        "\n",
        "    centers = kmeans.cluster_centers_\n",
        "\n",
        "    score = silhouette_score(x, cluster_labels)\n",
        "    silhouette.append(score)\n",
        "    print(\"For n_clusters = {}, silhouette score is {}\".format(n_clusters, score))"
      ]
    },
    {
      "cell_type": "code",
      "execution_count": null,
      "id": "1b344382",
      "metadata": {
        "pycharm": {
          "name": "#%%\n"
        },
        "id": "1b344382",
        "outputId": "2e8d5e49-6456-46da-b570-9f6c45c7bd56"
      },
      "outputs": [
        {
          "data": {
            "text/plain": [
              "Text(0.5, 0.98, 'Finding the right number of clusters')"
            ]
          },
          "execution_count": 46,
          "metadata": {},
          "output_type": "execute_result"
        },
        {
          "data": {
            "image/png": "[encoded data removed]",
            "text/plain": [
              "<Figure size 800x550 with 1 Axes>"
            ]
          },
          "metadata": {},
          "output_type": "display_data"
        }
      ],
      "source": [
        "plt.style.use('fivethirtyeight')\n",
        "\n",
        "silhouette_fig, ax = plt.subplots()\n",
        "\n",
        "ax.plot(range(2, 21), silhouette)\n",
        "\n",
        "ax.set_xlabel('Number of clusters')\n",
        "ax.set_ylabel('Silhouette score')\n",
        "\n",
        "ax.set_xticks(np.arange(2, 21, 1))\n",
        "\n",
        "silhouette_fig.suptitle(\"Finding the right number of clusters\", weight = 'bold', size = 18)"
      ]
    },
    {
      "cell_type": "markdown",
      "id": "e3637e3d",
      "metadata": {
        "pycharm": {
          "name": "#%% md\n"
        },
        "id": "e3637e3d"
      },
      "source": [
        "Plotting Silhouettes to check for optimal number of clusters"
      ]
    },
    {
      "cell_type": "code",
      "execution_count": null,
      "id": "1da6f14b",
      "metadata": {
        "pycharm": {
          "name": "#%%\n"
        },
        "id": "1da6f14b",
        "outputId": "91a4c346-bcc8-4a87-e0a3-223edc388059"
      },
      "outputs": [
        {
          "data": {
            "image/png": "[encoded data removed]",
            "text/plain": [
              "<Figure size 1500x2500 with 12 Axes>"
            ]
          },
          "metadata": {},
          "output_type": "display_data"
        }
      ],
      "source": [
        "fig, ax = plt.subplots(6, 2, figsize=(15,25))\n",
        "for i in [2, 3, 4, 5, 6 ,7, 8, 9, 10, 11, 12, 13]:\n",
        "    '''\n",
        "    Create KMeans instance for different number of clusters\n",
        "    '''\n",
        "    km = KMeans(n_clusters=i, n_init='auto', random_state=42, max_iter=300, algorithm='lloyd')\n",
        "    q, mod = divmod(i, 2)\n",
        "    '''\n",
        "    Create SilhouetteVisualizer instance with KMeans instance\n",
        "    Fit the visualizer\n",
        "    '''\n",
        "    visualizer = SilhouetteVisualizer(km, colors='yellowbrick', ax=ax[q-1][mod])\n",
        "    visualizer.fit(x)\n",
        "    visualizer.ax.set_xlabel(f\"{i} Clusters\")"
      ]
    }
  ],
  "metadata": {
    "kernelspec": {
      "display_name": "Python 3 (ipykernel)",
      "language": "python",
      "name": "python3"
    },
    "language_info": {
      "codemirror_mode": {
        "name": "ipython",
        "version": 3
      },
      "file_extension": ".py",
      "mimetype": "text/x-python",
      "name": "python",
      "nbconvert_exporter": "python",
      "pygments_lexer": "ipython3",
      "version": "3.10.9"
    },
    "colab": {
      "provenance": [],
      "include_colab_link": true
    }
  },
  "nbformat": 4,
  "nbformat_minor": 5
}